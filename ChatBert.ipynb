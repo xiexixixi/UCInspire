{
 "cells": [
  {
   "cell_type": "code",
   "execution_count": 1,
   "metadata": {},
   "outputs": [],
   "source": [
    "import os\n",
    "import json\n",
    "\n",
    "import numpy as np\n",
    "import pandas as pd\n",
    "import matplotlib.pyplot as plt\n",
    "\n",
    "import tensorflow as tf\n",
    "from transformers import BertTokenizer,TFBertModel,TFBertForSequenceClassification"
   ]
  },
  {
   "cell_type": "code",
   "execution_count": 2,
   "metadata": {},
   "outputs": [
    {
     "name": "stderr",
     "output_type": "stream",
     "text": [
      "Calling BertTokenizer.from_pretrained() with the path to a single file or url is deprecated\n",
      "Some weights of the model checkpoint at /home/ning/bert_conf/tf_model.h5 were not used when initializing TFBertForSequenceClassification: ['nsp___cls', 'mlm___cls']\n",
      "- This IS expected if you are initializing TFBertForSequenceClassification from the checkpoint of a model trained on another task or with another architecture (e.g. initializing a BertForSequenceClassification model from a BertForPretraining model).\n",
      "- This IS NOT expected if you are initializing TFBertForSequenceClassification from the checkpoint of a model that you expect to be exactly identical (initializing a BertForSequenceClassification model from a BertForSequenceClassification model).\n",
      "Some weights of TFBertForSequenceClassification were not initialized from the model checkpoint at /home/ning/bert_conf/tf_model.h5 and are newly initialized: ['classifier', 'dropout_37']\n",
      "You should probably TRAIN this model on a down-stream task to be able to use it for predictions and inference.\n"
     ]
    }
   ],
   "source": [
    "emotionpush_data_path = r'/home/ning/dataset'\n",
    "bert_path = r\"/home/ning/bert_conf\"\n",
    "cache_dir=r'/home/ning/bert_conf/bert-base-uncased-cache'\n",
    "\n",
    "ckpt_path = r'/home/ning/models.ckpt'\n",
    "\n",
    "train_df = pd.read_pickle(os.path.join(emotionpush_data_path,'emotionpush_train.pkl'))\n",
    "test_df = pd.read_pickle(os.path.join(emotionpush_data_path,'emotionpush_test.pkl'))\n",
    "\n",
    "train_df = train_df[train_df['emotion'].isin([ 'neutral', 'joy', 'sadness', 'anger'])]\n",
    "test_df = test_df[test_df['emotion'].isin([ 'neutral', 'joy', 'sadness', 'anger'])]\n",
    "\n",
    "tokenizer = BertTokenizer.from_pretrained(os.path.join(bert_path,'vocab_idea.txt'))\n",
    "# model = TFBertForSequenceClassification.from_pretrained(os.path.join(ckpt_path,'friendsbert_no_pretrained.h5'),config = os.path.join(ckpt_path,'config.json'),num_labels=4)\n",
    "#原版\n",
    "model = TFBertForSequenceClassification.from_pretrained(os.path.join(bert_path,'tf_model.h5'),config = os.path.join(bert_path,'config.json'),num_labels=4)\n"
   ]
  },
  {
   "cell_type": "code",
   "execution_count": 3,
   "metadata": {},
   "outputs": [],
   "source": [
    "def encode_sentence_with_speaker(speaker,utterance,tokenizer,sos):\n",
    "    if sos:\n",
    "        tokens = ['[CLS]']\n",
    "    else:\n",
    "        tokens = []\n",
    "\n",
    "    if utterance in [';)',':)','<3',':(','LMAO','LOL','OMG','','lol','lmao','omg']:\n",
    "        return tokenizer.encode([utterance.upper()])\n",
    "        \n",
    "    \n",
    "    if speaker not in ['other','None']:\n",
    "        spk_token = '['+speaker+']'\n",
    "        tokens.append(spk_token)\n",
    "        tokens.append('[says]')\n",
    "        tokens.extend(list(tokenizer.tokenize(utterance)))\n",
    "        tokens.append('[SEP]')\n",
    "    \n",
    "    else:\n",
    "        tokens.extend(list(tokenizer.tokenize(utterance)))\n",
    "    \n",
    "    return tokenizer.convert_tokens_to_ids(tokens)\n",
    "    \n",
    "    \n",
    "\n",
    "\n",
    "def bert_encode(dataframe, tokenizer,single=False):\n",
    "    \n",
    "    if not single:\n",
    "        num_examples = len(dataframe.index)\n",
    "        sentence1 = tf.ragged.constant([encode_sentence_with_speaker(s[0],s[1],tokenizer,True) for s in dataframe.values])\n",
    "\n",
    "        sentence2 = tf.ragged.constant([encode_sentence_with_speaker(s[2],s[3],tokenizer,False) for s in dataframe.values])\n",
    "\n",
    "        input_word_ids = tf.concat([sentence1, sentence2], axis=-1)\n",
    "\n",
    "        input_mask = tf.ones_like(input_word_ids).to_tensor()\n",
    "\n",
    "        type_s1 = tf.zeros_like(sentence1)\n",
    "        type_s2 = tf.ones_like(sentence2)\n",
    "        input_type_ids = tf.concat([type_s1, type_s2], axis=-1).to_tensor()\n",
    "\n",
    "\n",
    "        inputs = {\n",
    "            'input_ids': input_word_ids.to_tensor(),\n",
    "            'attention_mask': input_mask,\n",
    "            'token_type_ids': input_type_ids}\n",
    "    \n",
    "    else:\n",
    "        num_examples = len(dataframe.index)\n",
    "        input_word_ids = tf.ragged.constant([encode_sentence_with_speaker(s[0],s[1],tokenizer,True) for s in dataframe.values])\n",
    "        \n",
    "        input_mask = tf.ones_like(input_word_ids).to_tensor()\n",
    "        \n",
    "        input_type_ids = tf.zeros_like(input_word_ids).to_tensor()\n",
    "        \n",
    "        inputs = {\n",
    "            'input_ids': input_word_ids.to_tensor(),\n",
    "            'attention_mask': input_mask,\n",
    "            'token_type_ids': input_type_ids}\n",
    "        \n",
    "        \n",
    "    return inputs"
   ]
  },
  {
   "cell_type": "code",
   "execution_count": 4,
   "metadata": {},
   "outputs": [],
   "source": [
    "train_target = train_df['emotion']\n",
    "test_target = test_df['emotion']\n",
    "\n",
    "#数据增强\n",
    "# addition_anger = train_df[train_df['emotion']=='anger']\n",
    "# addition_sadness = train_df[train_df['emotion']=='sadness']\n",
    "# addition_joy = train_df[train_df['emotion']=='joy']\n",
    "# for i in range(3):\n",
    "#     addition_anger = pd.concat([addition_anger,train_df[train_df['emotion']=='anger']], axis=0)\n",
    "# addition_sadness = pd.concat([addition_sadness,addition_anger], axis=0)\n",
    "\n",
    "# addition_sadness = pd.concat([addition_sadness,addition_sadness], axis=0)\n",
    "# addition_sadness = pd.concat([addition_sadness,addition_sadness], axis=0)\n",
    "# addition_joy = pd.concat([addition_joy,addition_sadness], axis=0)\n",
    "\n",
    "# result = pd.concat([addition_joy,addition_joy,addition_joy,addition_joy], axis=0)\n",
    "# train_df = result.sample(frac=0.5)\n",
    "\n",
    "\n",
    "train_features = bert_encode(train_df, tokenizer,single = False)\n",
    "test_features = bert_encode(test_df, tokenizer,single = False)\n",
    "\n",
    "ems = train_target.unique()\n",
    "def convert(emotion):\n",
    "    return np.where(ems == emotion)[0][0]\n",
    "\n",
    "train_labels = np.array(list(map(convert,train_target)))\n",
    "test_labels = np.array(list(map(convert,test_target)))"
   ]
  },
  {
   "cell_type": "code",
   "execution_count": 15,
   "metadata": {},
   "outputs": [
    {
     "name": "stdout",
     "output_type": "stream",
     "text": [
      "634/634 [==============================] - 220s 346ms/step - loss: 0.0026 - accuracy: 0.8895\n"
     ]
    },
    {
     "data": {
      "text/plain": [
       "<tensorflow.python.keras.callbacks.History at 0x7f3f289ed280>"
      ]
     },
     "execution_count": 15,
     "metadata": {},
     "output_type": "execute_result"
    }
   ],
   "source": [
    "def NLL(y_true,y_pred):\n",
    "    \n",
    "    sample_weight = np.array([1.2761053029348783, 24.830882352941178, 6.051971326164875, 92.1])\n",
    "    node1 = tf.nn.softmax(y_pred)\n",
    "    node2 = sample_weight*node1\n",
    "    loss = tf.keras.losses.SparseCategoricalCrossentropy(from_logits=False)\n",
    "    return loss(y_true,node2)/sample_weight.sum()\n",
    "\n",
    "\n",
    "optimizer = tf.keras.optimizers.Adam(learning_rate=2.5e-5)\n",
    "loss = tf.keras.losses.SparseCategoricalCrossentropy(from_logits=True)\n",
    "metrics = [tf.keras.metrics.Precision(),tf.keras.metrics.Recall()]\n",
    "model.compile(\n",
    "    optimizer=optimizer,\n",
    "    loss=loss,\n",
    "    metrics=['accuracy'])\n",
    "model.fit(\n",
    "      train_features,train_labels,\n",
    "    \n",
    "#       validation_data=(test_features,test_labels),\n",
    "      batch_size=16,\n",
    "      epochs=1)"
   ]
  },
  {
   "cell_type": "code",
   "execution_count": 16,
   "metadata": {},
   "outputs": [
    {
     "name": "stdout",
     "output_type": "stream",
     "text": [
      "[[1863    6   32    1]\n",
      " [  55   43    8    0]\n",
      " [ 187    2  237    0]\n",
      " [  29    0    0    1]]\n",
      "            neutral   sadness       joy     anger  Overall\n",
      "Precision  0.873008  0.843137  0.855596  0.500000      NaN\n",
      "Recall     0.979495  0.405660  0.556338  0.033333      NaN\n",
      "F1-score   0.923191  0.547771  0.674253  0.062500  0.87013\n"
     ]
    }
   ],
   "source": [
    "m,p = test(model,test_features,test_labels)"
   ]
  },
  {
   "cell_type": "code",
   "execution_count": 13,
   "metadata": {},
   "outputs": [],
   "source": [
    "model.save_pretrained('/home/ning/models.ckpt/ChatBert_nopretrain_finetune')"
   ]
  },
  {
   "cell_type": "code",
   "execution_count": null,
   "metadata": {},
   "outputs": [],
   "source": []
  },
  {
   "cell_type": "code",
   "execution_count": null,
   "metadata": {},
   "outputs": [],
   "source": []
  },
  {
   "cell_type": "code",
   "execution_count": 5,
   "metadata": {},
   "outputs": [],
   "source": [
    "\n",
    "\n",
    "epochs = 1\n",
    "batch_size = 16\n",
    "num_labels = 4\n",
    "def calc_confusion_matrix(matrix,predict,true):\n",
    "\n",
    "    for i in range(len(predict)):\n",
    "        matrix[true[i]][predict[i]] += 1\n",
    "    return matrix\n",
    "\n",
    "def calc_acc(matrix):\n",
    "    r = 0\n",
    "    for i,label in enumerate(matrix):\n",
    "        r += matrix[i][i]\n",
    "    \n",
    "    return r/sum(sum(matrix))\n",
    "    \n",
    "def calc_performance(matrix):\n",
    "    rights = matrix[[range(4)],[range(4)]]\n",
    "    \n",
    "    Ps = rights/matrix.sum(axis=0)\n",
    "    Rs = rights/matrix.sum(axis=1)\n",
    "    \n",
    "    f1_scores = 2*Ps*Rs/(Ps+Rs)\n",
    "    \n",
    "    micro_f1_scores = rights.sum()/sum(matrix.sum(axis=0))\n",
    "\n",
    "    overall_p = np.array([[np.nan],[np.nan],[micro_f1_scores]])\n",
    "    \n",
    "    perfromence_ = np.concatenate((Ps,Rs,f1_scores),axis=0)\n",
    "    perfromence = np.concatenate((perfromence_,overall_p),axis=1)\n",
    "    \n",
    "    df = pd.DataFrame(perfromence,columns=['neutral', 'sadness', 'joy', 'anger','Overall'],index=['Precision','Recall','F1-score'])\n",
    "    \n",
    "    \n",
    "    return df\n",
    "    \n",
    "def NLL(y_true,y_pred):\n",
    "    \n",
    "    sample_weight = np.array([1.2761053029348783, 24.830882352941178, 6.051971326164875, 92.1])\n",
    "    node1 = tf.nn.softmax(y_pred)\n",
    "    node2 = sample_weight*node1\n",
    "    loss = tf.keras.losses.SparseCategoricalCrossentropy(from_logits=False)\n",
    "    return loss(y_true,node2)/sample_weight.sum()\n",
    "\n",
    "loss_object= tf.keras.losses.SparseCategoricalCrossentropy(from_logits=True)\n",
    "# loss_object = NLL\n",
    "\n",
    "# train_data_size = len(train_labels)\n",
    "# steps_per_epoch = int(train_data_size / batch_size)\n",
    "# num_train_steps = steps_per_epoch * epochs\n",
    "# warmup_steps = int(epochs * train_data_size * 0.1 / batch_size)\n",
    "\n",
    "# optimizer = nlp.optimization.create_optimizer(\n",
    "#     2.5e-6, num_train_steps=num_train_steps, num_warmup_steps=warmup_steps)\n",
    "\n",
    "\n",
    "\n",
    "def train(model,train_f,train_l,test_f,test_l,one_step = False):\n",
    "\n",
    "    performance = pd.DataFrame()\n",
    "    batch_size = 8\n",
    "    num_labels = 4\n",
    "    epochs = 5\n",
    "    weight = np.array([[sum(train_target==e) for e in ems]]*batch_size)\n",
    "    weight = weight[0].sum()/weight\n",
    "    sample_weight = tf.constant(weight,dtype=tf.float32)\n",
    "    \n",
    "    confusion_matrix = np.zeros((num_labels,num_labels),dtype=np.float32)\n",
    "    optimizer = tf.keras.optimizers.Adam(learning_rate=2.5e-6)\n",
    "    \n",
    "    for i in range(epochs):\n",
    "        print(\"Training for epoch {}\".format(i))\n",
    "        for step in range(len(train_l)//batch_size):\n",
    "            train_f_batch = {'input_ids': train_f['input_ids'][batch_size*step:batch_size*(step+1)],\n",
    "                    'attention_mask': train_f['attention_mask'][batch_size*step:batch_size*(step+1)],\n",
    "                    'token_type_ids': train_f['token_type_ids'][batch_size*step:batch_size*(step+1)]}\n",
    "            train_l_batch = train_l[batch_size*step:batch_size*(step+1)]\n",
    "\n",
    "            with tf.GradientTape() as tape:\n",
    "                prediction = model(train_f_batch,training = True)\n",
    "                pred_label = np.argmax(prediction[0].numpy(),axis=1)\n",
    "                \n",
    "                loss_value  = loss_object(y_true=train_l_batch, y_pred=prediction)\n",
    "                \n",
    "                \n",
    "            grads = tape.gradient(loss_value, model.trainable_weights)\n",
    "            optimizer.apply_gradients(zip(grads, model.trainable_variables))\n",
    "            \n",
    "            if one_step:\n",
    "                return None,None\n",
    "            \n",
    "            \n",
    "            if not step%50:\n",
    "                print(\"Epoch {:03d}: Step:{:03d}//{:03d} Loss: {:.3f} \".format(i,step,len(train_l)//batch_size,loss_value))\n",
    "                confusion_matrix,performance = test(model,test_features,test_labels,batch_size = 16,num_labels = 4)\n",
    "                \n",
    "    return confusion_matrix,performance\n",
    "\n",
    "\n",
    "\n",
    "def test(model,test_f,test_l,batch_size = 16,num_labels = 4):\n",
    "    \n",
    "    confusion_matrix = np.zeros((num_labels,num_labels),dtype=np.float32)\n",
    "    \n",
    "    for step_ in range(len(test_l)//batch_size):\n",
    "        test_f_batch = {'input_ids': test_f['input_ids'][batch_size*step_:batch_size*(step_+1)],\n",
    "                'attention_mask': test_f['attention_mask'][batch_size*step_:batch_size*(step_+1)],\n",
    "                'token_type_ids': test_f['token_type_ids'][batch_size*step_:batch_size*(step_+1)]}\n",
    "        test_l_batch = test_l[batch_size*step_:batch_size*(step_+1)]\n",
    "\n",
    "        prediction = model(test_f_batch,training = False)\n",
    "        pred_label = np.argmax(prediction[0].numpy(),axis=1)\n",
    "\n",
    "        confusion_matrix = calc_confusion_matrix(confusion_matrix,pred_label,test_l_batch)\n",
    "\n",
    "    print(confusion_matrix.astype(np.int32))\n",
    "    performance = calc_performance(confusion_matrix)\n",
    "\n",
    "    print(performance)    \n",
    "    return confusion_matrix.astype(np.int32),performance\n"
   ]
  },
  {
   "cell_type": "code",
   "execution_count": null,
   "metadata": {},
   "outputs": [
    {
     "name": "stdout",
     "output_type": "stream",
     "text": [
      "Training for epoch 0\n",
      "Epoch 000: Step:000//1266 Loss: 1.319 \n",
      "[[ 346 1400    0  156]\n",
      " [  11   89    0    6]\n",
      " [  47  343    0   36]\n",
      " [   3   25    0    2]]\n",
      "            neutral   sadness  joy     anger   Overall\n",
      "Precision  0.850123  0.047927  NaN  0.010000       NaN\n",
      "Recall     0.181914  0.839623  0.0  0.066667       NaN\n",
      "F1-score   0.299697  0.090678  NaN  0.017391  0.177354\n"
     ]
    },
    {
     "name": "stderr",
     "output_type": "stream",
     "text": [
      "<ipython-input-5-7b3d2177ac82>:20: RuntimeWarning: invalid value encountered in true_divide\n",
      "  Ps = rights/matrix.sum(axis=0)\n"
     ]
    },
    {
     "name": "stdout",
     "output_type": "stream",
     "text": [
      "Epoch 000: Step:050//1266 Loss: 0.825 \n",
      "[[1886   15    0    1]\n",
      " [ 104    2    0    0]\n",
      " [ 401   25    0    0]\n",
      " [  30    0    0    0]]\n",
      "            neutral   sadness  joy  anger   Overall\n",
      "Precision  0.779017  0.047619  NaN    0.0       NaN\n",
      "Recall     0.991588  0.018868  0.0    0.0       NaN\n",
      "F1-score   0.872542  0.027027  NaN    NaN  0.766234\n"
     ]
    },
    {
     "name": "stderr",
     "output_type": "stream",
     "text": [
      "<ipython-input-5-7b3d2177ac82>:20: RuntimeWarning: invalid value encountered in true_divide\n",
      "  Ps = rights/matrix.sum(axis=0)\n",
      "<ipython-input-5-7b3d2177ac82>:23: RuntimeWarning: invalid value encountered in true_divide\n",
      "  f1_scores = 2*Ps*Rs/(Ps+Rs)\n"
     ]
    },
    {
     "name": "stdout",
     "output_type": "stream",
     "text": [
      "Epoch 000: Step:100//1266 Loss: 1.024 \n",
      "[[1898    4    0    0]\n",
      " [ 106    0    0    0]\n",
      " [ 413   13    0    0]\n",
      " [  30    0    0    0]]\n",
      "            neutral  sadness  joy  anger   Overall\n",
      "Precision  0.775644      0.0  NaN    NaN       NaN\n",
      "Recall     0.997897      0.0  0.0    0.0       NaN\n",
      "F1-score   0.872844      NaN  NaN    NaN  0.770292\n"
     ]
    },
    {
     "name": "stderr",
     "output_type": "stream",
     "text": [
      "<ipython-input-5-7b3d2177ac82>:20: RuntimeWarning: invalid value encountered in true_divide\n",
      "  Ps = rights/matrix.sum(axis=0)\n",
      "<ipython-input-5-7b3d2177ac82>:23: RuntimeWarning: invalid value encountered in true_divide\n",
      "  f1_scores = 2*Ps*Rs/(Ps+Rs)\n"
     ]
    },
    {
     "name": "stdout",
     "output_type": "stream",
     "text": [
      "Epoch 000: Step:150//1266 Loss: 0.834 \n",
      "[[1898    4    0    0]\n",
      " [ 106    0    0    0]\n",
      " [ 418    8    0    0]\n",
      " [  30    0    0    0]]\n",
      "            neutral  sadness  joy  anger   Overall\n",
      "Precision  0.774062      0.0  NaN    NaN       NaN\n",
      "Recall     0.997897      0.0  0.0    0.0       NaN\n",
      "F1-score   0.871842      NaN  NaN    NaN  0.770292\n"
     ]
    },
    {
     "name": "stderr",
     "output_type": "stream",
     "text": [
      "<ipython-input-5-7b3d2177ac82>:20: RuntimeWarning: invalid value encountered in true_divide\n",
      "  Ps = rights/matrix.sum(axis=0)\n",
      "<ipython-input-5-7b3d2177ac82>:23: RuntimeWarning: invalid value encountered in true_divide\n",
      "  f1_scores = 2*Ps*Rs/(Ps+Rs)\n"
     ]
    },
    {
     "name": "stdout",
     "output_type": "stream",
     "text": [
      "Epoch 000: Step:200//1266 Loss: 0.852 \n",
      "[[1899    3    0    0]\n",
      " [ 106    0    0    0]\n",
      " [ 422    4    0    0]\n",
      " [  30    0    0    0]]\n",
      "            neutral  sadness  joy  anger   Overall\n",
      "Precision  0.772894      0.0  NaN    NaN       NaN\n",
      "Recall     0.998423      0.0  0.0    0.0       NaN\n",
      "F1-score   0.871301      NaN  NaN    NaN  0.770698\n"
     ]
    },
    {
     "name": "stderr",
     "output_type": "stream",
     "text": [
      "<ipython-input-5-7b3d2177ac82>:20: RuntimeWarning: invalid value encountered in true_divide\n",
      "  Ps = rights/matrix.sum(axis=0)\n",
      "<ipython-input-5-7b3d2177ac82>:23: RuntimeWarning: invalid value encountered in true_divide\n",
      "  f1_scores = 2*Ps*Rs/(Ps+Rs)\n"
     ]
    },
    {
     "name": "stdout",
     "output_type": "stream",
     "text": [
      "Epoch 000: Step:250//1266 Loss: 0.559 \n",
      "[[1900    2    0    0]\n",
      " [ 106    0    0    0]\n",
      " [ 423    3    0    0]\n",
      " [  30    0    0    0]]\n",
      "            neutral  sadness  joy  anger   Overall\n",
      "Precision  0.772672      0.0  NaN    NaN       NaN\n",
      "Recall     0.998948      0.0  0.0    0.0       NaN\n",
      "F1-score   0.871360      NaN  NaN    NaN  0.771104\n"
     ]
    },
    {
     "name": "stderr",
     "output_type": "stream",
     "text": [
      "<ipython-input-5-7b3d2177ac82>:20: RuntimeWarning: invalid value encountered in true_divide\n",
      "  Ps = rights/matrix.sum(axis=0)\n",
      "<ipython-input-5-7b3d2177ac82>:23: RuntimeWarning: invalid value encountered in true_divide\n",
      "  f1_scores = 2*Ps*Rs/(Ps+Rs)\n"
     ]
    },
    {
     "name": "stdout",
     "output_type": "stream",
     "text": [
      "Epoch 000: Step:300//1266 Loss: 0.879 \n",
      "[[1901    1    0    0]\n",
      " [ 106    0    0    0]\n",
      " [ 424    2    0    0]\n",
      " [  30    0    0    0]]\n",
      "            neutral  sadness  joy  anger  Overall\n",
      "Precision  0.772450      0.0  NaN    NaN      NaN\n",
      "Recall     0.999474      0.0  0.0    0.0      NaN\n",
      "F1-score   0.871419      NaN  NaN    NaN  0.77151\n"
     ]
    },
    {
     "name": "stderr",
     "output_type": "stream",
     "text": [
      "<ipython-input-5-7b3d2177ac82>:20: RuntimeWarning: invalid value encountered in true_divide\n",
      "  Ps = rights/matrix.sum(axis=0)\n",
      "<ipython-input-5-7b3d2177ac82>:23: RuntimeWarning: invalid value encountered in true_divide\n",
      "  f1_scores = 2*Ps*Rs/(Ps+Rs)\n"
     ]
    },
    {
     "name": "stdout",
     "output_type": "stream",
     "text": [
      "Epoch 000: Step:350//1266 Loss: 1.105 \n",
      "[[1902    0    0    0]\n",
      " [ 106    0    0    0]\n",
      " [ 425    1    0    0]\n",
      " [  30    0    0    0]]\n",
      "            neutral  sadness  joy  anger   Overall\n",
      "Precision  0.772229      0.0  NaN    NaN       NaN\n",
      "Recall     1.000000      0.0  0.0    0.0       NaN\n",
      "F1-score   0.871478      NaN  NaN    NaN  0.771916\n"
     ]
    },
    {
     "name": "stderr",
     "output_type": "stream",
     "text": [
      "<ipython-input-5-7b3d2177ac82>:20: RuntimeWarning: invalid value encountered in true_divide\n",
      "  Ps = rights/matrix.sum(axis=0)\n",
      "<ipython-input-5-7b3d2177ac82>:23: RuntimeWarning: invalid value encountered in true_divide\n",
      "  f1_scores = 2*Ps*Rs/(Ps+Rs)\n"
     ]
    },
    {
     "name": "stdout",
     "output_type": "stream",
     "text": [
      "Epoch 000: Step:400//1266 Loss: 0.711 \n",
      "[[1902    0    0    0]\n",
      " [ 106    0    0    0]\n",
      " [ 425    1    0    0]\n",
      " [  30    0    0    0]]\n",
      "            neutral  sadness  joy  anger   Overall\n",
      "Precision  0.772229      0.0  NaN    NaN       NaN\n",
      "Recall     1.000000      0.0  0.0    0.0       NaN\n",
      "F1-score   0.871478      NaN  NaN    NaN  0.771916\n"
     ]
    },
    {
     "name": "stderr",
     "output_type": "stream",
     "text": [
      "<ipython-input-5-7b3d2177ac82>:20: RuntimeWarning: invalid value encountered in true_divide\n",
      "  Ps = rights/matrix.sum(axis=0)\n",
      "<ipython-input-5-7b3d2177ac82>:23: RuntimeWarning: invalid value encountered in true_divide\n",
      "  f1_scores = 2*Ps*Rs/(Ps+Rs)\n"
     ]
    },
    {
     "name": "stdout",
     "output_type": "stream",
     "text": [
      "Epoch 000: Step:450//1266 Loss: 0.202 \n",
      "[[1902    0    0    0]\n",
      " [ 106    0    0    0]\n",
      " [ 425    1    0    0]\n",
      " [  30    0    0    0]]\n",
      "            neutral  sadness  joy  anger   Overall\n",
      "Precision  0.772229      0.0  NaN    NaN       NaN\n",
      "Recall     1.000000      0.0  0.0    0.0       NaN\n",
      "F1-score   0.871478      NaN  NaN    NaN  0.771916\n"
     ]
    },
    {
     "name": "stderr",
     "output_type": "stream",
     "text": [
      "<ipython-input-5-7b3d2177ac82>:20: RuntimeWarning: invalid value encountered in true_divide\n",
      "  Ps = rights/matrix.sum(axis=0)\n",
      "<ipython-input-5-7b3d2177ac82>:23: RuntimeWarning: invalid value encountered in true_divide\n",
      "  f1_scores = 2*Ps*Rs/(Ps+Rs)\n"
     ]
    },
    {
     "name": "stdout",
     "output_type": "stream",
     "text": [
      "Epoch 000: Step:500//1266 Loss: 0.229 \n",
      "[[1901    0    1    0]\n",
      " [ 106    0    0    0]\n",
      " [ 425    1    0    0]\n",
      " [  30    0    0    0]]\n",
      "            neutral  sadness  joy  anger  Overall\n",
      "Precision  0.772136      0.0  0.0    NaN      NaN\n",
      "Recall     0.999474      0.0  0.0    0.0      NaN\n",
      "F1-score   0.871219      NaN  NaN    NaN  0.77151\n"
     ]
    },
    {
     "name": "stderr",
     "output_type": "stream",
     "text": [
      "<ipython-input-5-7b3d2177ac82>:20: RuntimeWarning: invalid value encountered in true_divide\n",
      "  Ps = rights/matrix.sum(axis=0)\n",
      "<ipython-input-5-7b3d2177ac82>:23: RuntimeWarning: invalid value encountered in true_divide\n",
      "  f1_scores = 2*Ps*Rs/(Ps+Rs)\n"
     ]
    },
    {
     "name": "stdout",
     "output_type": "stream",
     "text": [
      "Epoch 000: Step:550//1266 Loss: 0.232 \n",
      "[[1897    0    5    0]\n",
      " [ 104    0    2    0]\n",
      " [ 407    0   19    0]\n",
      " [  30    0    0    0]]\n",
      "            neutral  sadness       joy  anger   Overall\n",
      "Precision  0.778097      NaN  0.730769    NaN       NaN\n",
      "Recall     0.997371      0.0  0.044601    0.0       NaN\n",
      "F1-score   0.874194      NaN  0.084071    NaN  0.777597\n"
     ]
    },
    {
     "name": "stderr",
     "output_type": "stream",
     "text": [
      "<ipython-input-5-7b3d2177ac82>:20: RuntimeWarning: invalid value encountered in true_divide\n",
      "  Ps = rights/matrix.sum(axis=0)\n"
     ]
    },
    {
     "name": "stdout",
     "output_type": "stream",
     "text": [
      "Epoch 000: Step:600//1266 Loss: 1.769 \n",
      "[[1856    0   46    0]\n",
      " [  87    0   19    0]\n",
      " [ 334    1   91    0]\n",
      " [  26    0    4    0]]\n",
      "            neutral  sadness       joy  anger   Overall\n",
      "Precision  0.805905      0.0  0.568750    NaN       NaN\n",
      "Recall     0.975815      0.0  0.213615    0.0       NaN\n",
      "F1-score   0.882759      NaN  0.310580    NaN  0.790179\n"
     ]
    },
    {
     "name": "stderr",
     "output_type": "stream",
     "text": [
      "<ipython-input-5-7b3d2177ac82>:20: RuntimeWarning: invalid value encountered in true_divide\n",
      "  Ps = rights/matrix.sum(axis=0)\n",
      "<ipython-input-5-7b3d2177ac82>:23: RuntimeWarning: invalid value encountered in true_divide\n",
      "  f1_scores = 2*Ps*Rs/(Ps+Rs)\n"
     ]
    },
    {
     "name": "stdout",
     "output_type": "stream",
     "text": [
      "Epoch 000: Step:650//1266 Loss: 0.481 \n",
      "[[1866    0   36    0]\n",
      " [  89    0   17    0]\n",
      " [ 335    0   91    0]\n",
      " [  27    0    3    0]]\n",
      "            neutral  sadness       joy  anger   Overall\n",
      "Precision  0.805352      NaN  0.619048    NaN       NaN\n",
      "Recall     0.981073      0.0  0.213615    0.0       NaN\n",
      "F1-score   0.884570      NaN  0.317627    NaN  0.794237\n"
     ]
    },
    {
     "name": "stderr",
     "output_type": "stream",
     "text": [
      "<ipython-input-5-7b3d2177ac82>:20: RuntimeWarning: invalid value encountered in true_divide\n",
      "  Ps = rights/matrix.sum(axis=0)\n"
     ]
    },
    {
     "name": "stdout",
     "output_type": "stream",
     "text": [
      "Epoch 000: Step:700//1266 Loss: 0.307 \n",
      "[[1875    0   27    0]\n",
      " [  93    0   13    0]\n",
      " [ 337    0   89    0]\n",
      " [  28    0    2    0]]\n",
      "            neutral  sadness       joy  anger   Overall\n",
      "Precision  0.803686      NaN  0.679389    NaN       NaN\n",
      "Recall     0.985804      0.0  0.208920    0.0       NaN\n",
      "F1-score   0.885478      NaN  0.319569    NaN  0.797078\n"
     ]
    },
    {
     "name": "stderr",
     "output_type": "stream",
     "text": [
      "<ipython-input-5-7b3d2177ac82>:20: RuntimeWarning: invalid value encountered in true_divide\n",
      "  Ps = rights/matrix.sum(axis=0)\n"
     ]
    },
    {
     "name": "stdout",
     "output_type": "stream",
     "text": [
      "Epoch 000: Step:750//1266 Loss: 1.041 \n",
      "[[1853    0   49    0]\n",
      " [  87    0   19    0]\n",
      " [ 308    0  118    0]\n",
      " [  27    0    3    0]]\n",
      "            neutral  sadness       joy  anger   Overall\n",
      "Precision  0.814506      NaN  0.624339    NaN       NaN\n",
      "Recall     0.974238      0.0  0.276995    0.0       NaN\n",
      "F1-score   0.887240      NaN  0.383740    NaN  0.799919\n"
     ]
    },
    {
     "name": "stderr",
     "output_type": "stream",
     "text": [
      "<ipython-input-5-7b3d2177ac82>:20: RuntimeWarning: invalid value encountered in true_divide\n",
      "  Ps = rights/matrix.sum(axis=0)\n"
     ]
    },
    {
     "name": "stdout",
     "output_type": "stream",
     "text": [
      "Epoch 000: Step:800//1266 Loss: 0.112 \n",
      "[[1884    0   18    0]\n",
      " [  96    0   10    0]\n",
      " [ 341    0   85    0]\n",
      " [  30    0    0    0]]\n",
      "            neutral  sadness       joy  anger   Overall\n",
      "Precision  0.801361      NaN  0.752212    NaN       NaN\n",
      "Recall     0.990536      0.0  0.199531    0.0       NaN\n",
      "F1-score   0.885963      NaN  0.315399    NaN  0.799107\n"
     ]
    },
    {
     "name": "stderr",
     "output_type": "stream",
     "text": [
      "<ipython-input-5-7b3d2177ac82>:20: RuntimeWarning: invalid value encountered in true_divide\n",
      "  Ps = rights/matrix.sum(axis=0)\n"
     ]
    },
    {
     "name": "stdout",
     "output_type": "stream",
     "text": [
      "Epoch 000: Step:850//1266 Loss: 1.440 \n",
      "[[1883    0   19    0]\n",
      " [  98    0    8    0]\n",
      " [ 328    0   98    0]\n",
      " [  30    0    0    0]]\n",
      "            neutral  sadness       joy  anger   Overall\n",
      "Precision  0.805045      NaN  0.784000    NaN       NaN\n",
      "Recall     0.990010      0.0  0.230047    0.0       NaN\n",
      "F1-score   0.887998      NaN  0.355717    NaN  0.803977\n"
     ]
    },
    {
     "name": "stderr",
     "output_type": "stream",
     "text": [
      "<ipython-input-5-7b3d2177ac82>:20: RuntimeWarning: invalid value encountered in true_divide\n",
      "  Ps = rights/matrix.sum(axis=0)\n"
     ]
    },
    {
     "name": "stdout",
     "output_type": "stream",
     "text": [
      "Epoch 000: Step:900//1266 Loss: 0.217 \n",
      "[[1748    0  154    0]\n",
      " [  69    0   37    0]\n",
      " [ 213    0  213    0]\n",
      " [  26    0    4    0]]\n",
      "            neutral  sadness       joy  anger  Overall\n",
      "Precision  0.850195      NaN  0.522059    NaN      NaN\n",
      "Recall     0.919033      0.0  0.500000    0.0      NaN\n",
      "F1-score   0.883274      NaN  0.510791    NaN  0.79586\n"
     ]
    },
    {
     "name": "stderr",
     "output_type": "stream",
     "text": [
      "<ipython-input-5-7b3d2177ac82>:20: RuntimeWarning: invalid value encountered in true_divide\n",
      "  Ps = rights/matrix.sum(axis=0)\n"
     ]
    },
    {
     "name": "stdout",
     "output_type": "stream",
     "text": [
      "Epoch 000: Step:950//1266 Loss: 0.552 \n",
      "[[1856    0   46    0]\n",
      " [  84    0   22    0]\n",
      " [ 271    0  155    0]\n",
      " [  28    0    2    0]]\n",
      "            neutral  sadness       joy  anger   Overall\n",
      "Precision  0.828941      NaN  0.688889    NaN       NaN\n",
      "Recall     0.975815      0.0  0.363850    0.0       NaN\n",
      "F1-score   0.896402      NaN  0.476191    NaN  0.816153\n"
     ]
    },
    {
     "name": "stderr",
     "output_type": "stream",
     "text": [
      "<ipython-input-5-7b3d2177ac82>:20: RuntimeWarning: invalid value encountered in true_divide\n",
      "  Ps = rights/matrix.sum(axis=0)\n"
     ]
    },
    {
     "name": "stdout",
     "output_type": "stream",
     "text": [
      "Epoch 000: Step:1000//1266 Loss: 0.218 \n",
      "[[1882    0   20    0]\n",
      " [  94    0   12    0]\n",
      " [ 315    0  111    0]\n",
      " [  29    0    1    0]]\n",
      "            neutral  sadness       joy  anger   Overall\n",
      "Precision  0.811207      NaN  0.770833    NaN       NaN\n",
      "Recall     0.989485      0.0  0.260563    0.0       NaN\n",
      "F1-score   0.891521      NaN  0.389474    NaN  0.808847\n"
     ]
    },
    {
     "name": "stderr",
     "output_type": "stream",
     "text": [
      "<ipython-input-5-7b3d2177ac82>:20: RuntimeWarning: invalid value encountered in true_divide\n",
      "  Ps = rights/matrix.sum(axis=0)\n"
     ]
    },
    {
     "name": "stdout",
     "output_type": "stream",
     "text": [
      "Epoch 000: Step:1050//1266 Loss: 0.420 \n",
      "[[1787    0  115    0]\n",
      " [  71    0   35    0]\n",
      " [ 213    0  213    0]\n",
      " [  26    0    4    0]]\n",
      "            neutral  sadness       joy  anger   Overall\n",
      "Precision  0.852170      NaN  0.580381    NaN       NaN\n",
      "Recall     0.939537      0.0  0.500000    0.0       NaN\n",
      "F1-score   0.893723      NaN  0.537201    NaN  0.811688\n"
     ]
    },
    {
     "name": "stderr",
     "output_type": "stream",
     "text": [
      "<ipython-input-5-7b3d2177ac82>:20: RuntimeWarning: invalid value encountered in true_divide\n",
      "  Ps = rights/matrix.sum(axis=0)\n"
     ]
    },
    {
     "name": "stdout",
     "output_type": "stream",
     "text": [
      "Epoch 000: Step:1100//1266 Loss: 0.151 \n",
      "[[1865    0   37    0]\n",
      " [  86    0   20    0]\n",
      " [ 274    0  152    0]\n",
      " [  30    0    0    0]]\n",
      "            neutral  sadness       joy  anger   Overall\n",
      "Precision  0.827051      NaN  0.727273    NaN       NaN\n",
      "Recall     0.980547      0.0  0.356808    0.0       NaN\n",
      "F1-score   0.897282      NaN  0.478740    NaN  0.818588\n"
     ]
    },
    {
     "name": "stderr",
     "output_type": "stream",
     "text": [
      "<ipython-input-5-7b3d2177ac82>:20: RuntimeWarning: invalid value encountered in true_divide\n",
      "  Ps = rights/matrix.sum(axis=0)\n"
     ]
    },
    {
     "name": "stdout",
     "output_type": "stream",
     "text": [
      "Epoch 000: Step:1150//1266 Loss: 0.098 \n",
      "[[1769    0  133    0]\n",
      " [  70    0   36    0]\n",
      " [ 189    0  237    0]\n",
      " [  27    0    3    0]]\n",
      "            neutral  sadness       joy  anger   Overall\n",
      "Precision  0.860827      NaN  0.579462    NaN       NaN\n",
      "Recall     0.930074      0.0  0.556338    0.0       NaN\n",
      "F1-score   0.894112      NaN  0.567665    NaN  0.814123\n"
     ]
    },
    {
     "name": "stderr",
     "output_type": "stream",
     "text": [
      "<ipython-input-5-7b3d2177ac82>:20: RuntimeWarning: invalid value encountered in true_divide\n",
      "  Ps = rights/matrix.sum(axis=0)\n"
     ]
    },
    {
     "name": "stdout",
     "output_type": "stream",
     "text": [
      "Epoch 000: Step:1200//1266 Loss: 0.114 \n",
      "[[1809    0   93    0]\n",
      " [  73    0   33    0]\n",
      " [ 207    0  219    0]\n",
      " [  27    0    3    0]]\n",
      "            neutral  sadness       joy  anger   Overall\n",
      "Precision  0.854915      NaN  0.629310    NaN       NaN\n",
      "Recall     0.951104      0.0  0.514085    0.0       NaN\n",
      "F1-score   0.900448      NaN  0.565891    NaN  0.823052\n"
     ]
    },
    {
     "name": "stderr",
     "output_type": "stream",
     "text": [
      "<ipython-input-5-7b3d2177ac82>:20: RuntimeWarning: invalid value encountered in true_divide\n",
      "  Ps = rights/matrix.sum(axis=0)\n"
     ]
    },
    {
     "name": "stdout",
     "output_type": "stream",
     "text": [
      "Epoch 000: Step:1250//1266 Loss: 0.843 \n",
      "[[1707    0  195    0]\n",
      " [  55    0   51    0]\n",
      " [ 144    0  282    0]\n",
      " [  23    0    7    0]]\n",
      "            neutral  sadness       joy  anger   Overall\n",
      "Precision  0.884914      NaN  0.527103    NaN       NaN\n",
      "Recall     0.897476      0.0  0.661972    0.0       NaN\n",
      "F1-score   0.891151      NaN  0.586889    NaN  0.807224\n"
     ]
    },
    {
     "name": "stderr",
     "output_type": "stream",
     "text": [
      "<ipython-input-5-7b3d2177ac82>:20: RuntimeWarning: invalid value encountered in true_divide\n",
      "  Ps = rights/matrix.sum(axis=0)\n"
     ]
    },
    {
     "name": "stdout",
     "output_type": "stream",
     "text": [
      "Training for epoch 1\n",
      "Epoch 001: Step:000//1266 Loss: 0.162 \n",
      "[[1793    0  109    0]\n",
      " [  68    0   38    0]\n",
      " [ 182    0  244    0]\n",
      " [  25    0    5    0]]\n",
      "            neutral  sadness       joy  anger   Overall\n",
      "Precision  0.867021      NaN  0.616162    NaN       NaN\n",
      "Recall     0.942692      0.0  0.572770    0.0       NaN\n",
      "F1-score   0.903275      NaN  0.593674    NaN  0.826705\n"
     ]
    },
    {
     "name": "stderr",
     "output_type": "stream",
     "text": [
      "<ipython-input-5-7b3d2177ac82>:20: RuntimeWarning: invalid value encountered in true_divide\n",
      "  Ps = rights/matrix.sum(axis=0)\n"
     ]
    },
    {
     "name": "stdout",
     "output_type": "stream",
     "text": [
      "Epoch 001: Step:050//1266 Loss: 0.812 \n",
      "[[1707    0  195    0]\n",
      " [  52    0   54    0]\n",
      " [ 133    0  293    0]\n",
      " [  21    0    9    0]]\n",
      "            neutral  sadness       joy  anger   Overall\n",
      "Precision  0.892316      NaN  0.531760    NaN       NaN\n",
      "Recall     0.897476      0.0  0.687793    0.0       NaN\n",
      "F1-score   0.894889      NaN  0.599795    NaN  0.811688\n"
     ]
    },
    {
     "name": "stderr",
     "output_type": "stream",
     "text": [
      "<ipython-input-5-7b3d2177ac82>:20: RuntimeWarning: invalid value encountered in true_divide\n",
      "  Ps = rights/matrix.sum(axis=0)\n"
     ]
    },
    {
     "name": "stdout",
     "output_type": "stream",
     "text": [
      "Epoch 001: Step:100//1266 Loss: 0.467 \n",
      "[[1792    0  110    0]\n",
      " [  64    0   42    0]\n",
      " [ 178    0  248    0]\n",
      " [  25    0    5    0]]\n",
      "            neutral  sadness       joy  anger   Overall\n",
      "Precision  0.870325      NaN  0.612346    NaN       NaN\n",
      "Recall     0.942166      0.0  0.582160    0.0       NaN\n",
      "F1-score   0.904822      NaN  0.596871    NaN  0.827922\n"
     ]
    },
    {
     "name": "stderr",
     "output_type": "stream",
     "text": [
      "<ipython-input-5-7b3d2177ac82>:20: RuntimeWarning: invalid value encountered in true_divide\n",
      "  Ps = rights/matrix.sum(axis=0)\n"
     ]
    },
    {
     "name": "stdout",
     "output_type": "stream",
     "text": [
      "Epoch 001: Step:150//1266 Loss: 0.376 \n",
      "[[1853    0   49    0]\n",
      " [  77    0   29    0]\n",
      " [ 224    0  202    0]\n",
      " [  29    0    1    0]]\n",
      "            neutral  sadness       joy  anger  Overall\n",
      "Precision  0.848832      NaN  0.718861    NaN      NaN\n",
      "Recall     0.974238      0.0  0.474178    0.0      NaN\n",
      "F1-score   0.907221      NaN  0.571429    NaN  0.83401\n"
     ]
    },
    {
     "name": "stderr",
     "output_type": "stream",
     "text": [
      "<ipython-input-5-7b3d2177ac82>:20: RuntimeWarning: invalid value encountered in true_divide\n",
      "  Ps = rights/matrix.sum(axis=0)\n"
     ]
    },
    {
     "name": "stdout",
     "output_type": "stream",
     "text": [
      "Epoch 001: Step:200//1266 Loss: 0.668 \n",
      "[[1834    0   68    0]\n",
      " [  74    0   32    0]\n",
      " [ 200    0  226    0]\n",
      " [  29    0    1    0]]\n",
      "            neutral  sadness       joy  anger   Overall\n",
      "Precision  0.858212      NaN  0.691131    NaN       NaN\n",
      "Recall     0.964248      0.0  0.530516    0.0       NaN\n",
      "F1-score   0.908146      NaN  0.600266    NaN  0.836039\n"
     ]
    },
    {
     "name": "stderr",
     "output_type": "stream",
     "text": [
      "<ipython-input-5-7b3d2177ac82>:20: RuntimeWarning: invalid value encountered in true_divide\n",
      "  Ps = rights/matrix.sum(axis=0)\n"
     ]
    },
    {
     "name": "stdout",
     "output_type": "stream",
     "text": [
      "Epoch 001: Step:250//1266 Loss: 0.322 \n",
      "[[1710    0  192    0]\n",
      " [  48    0   58    0]\n",
      " [ 123    0  303    0]\n",
      " [  20    0   10    0]]\n",
      "            neutral  sadness       joy  anger   Overall\n",
      "Precision  0.899527      NaN  0.538188    NaN       NaN\n",
      "Recall     0.899054      0.0  0.711268    0.0       NaN\n",
      "F1-score   0.899290      NaN  0.612740    NaN  0.816964\n"
     ]
    },
    {
     "name": "stderr",
     "output_type": "stream",
     "text": [
      "<ipython-input-5-7b3d2177ac82>:20: RuntimeWarning: invalid value encountered in true_divide\n",
      "  Ps = rights/matrix.sum(axis=0)\n"
     ]
    },
    {
     "name": "stdout",
     "output_type": "stream",
     "text": [
      "Epoch 001: Step:300//1266 Loss: 0.642 \n",
      "[[1782    0  120    0]\n",
      " [  62    0   44    0]\n",
      " [ 155    0  271    0]\n",
      " [  23    0    7    0]]\n",
      "            neutral  sadness       joy  anger   Overall\n",
      "Precision  0.881306      NaN  0.613122    NaN       NaN\n",
      "Recall     0.936909      0.0  0.636150    0.0       NaN\n",
      "F1-score   0.908257      NaN  0.624424    NaN  0.833198\n"
     ]
    },
    {
     "name": "stderr",
     "output_type": "stream",
     "text": [
      "<ipython-input-5-7b3d2177ac82>:20: RuntimeWarning: invalid value encountered in true_divide\n",
      "  Ps = rights/matrix.sum(axis=0)\n"
     ]
    },
    {
     "name": "stdout",
     "output_type": "stream",
     "text": [
      "Epoch 001: Step:350//1266 Loss: 0.811 \n",
      "[[1844    0   58    0]\n",
      " [  76    0   30    0]\n",
      " [ 204    0  222    0]\n",
      " [  29    0    1    0]]\n",
      "            neutral  sadness       joy  anger   Overall\n",
      "Precision  0.856479      NaN  0.713826    NaN       NaN\n",
      "Recall     0.969506      0.0  0.521127    0.0       NaN\n",
      "F1-score   0.909494      NaN  0.602442    NaN  0.838474\n"
     ]
    },
    {
     "name": "stderr",
     "output_type": "stream",
     "text": [
      "<ipython-input-5-7b3d2177ac82>:20: RuntimeWarning: invalid value encountered in true_divide\n",
      "  Ps = rights/matrix.sum(axis=0)\n"
     ]
    },
    {
     "name": "stdout",
     "output_type": "stream",
     "text": [
      "Epoch 001: Step:400//1266 Loss: 0.480 \n",
      "[[1728    0  174    0]\n",
      " [  52    0   54    0]\n",
      " [ 124    0  302    0]\n",
      " [  19    0   11    0]]\n",
      "            neutral  sadness       joy  anger   Overall\n",
      "Precision  0.898596      NaN  0.558226    NaN       NaN\n",
      "Recall     0.908517      0.0  0.708920    0.0       NaN\n",
      "F1-score   0.903529      NaN  0.624612    NaN  0.823864\n"
     ]
    },
    {
     "name": "stderr",
     "output_type": "stream",
     "text": [
      "<ipython-input-5-7b3d2177ac82>:20: RuntimeWarning: invalid value encountered in true_divide\n",
      "  Ps = rights/matrix.sum(axis=0)\n"
     ]
    },
    {
     "name": "stdout",
     "output_type": "stream",
     "text": [
      "Epoch 001: Step:450//1266 Loss: 0.062 \n",
      "[[1768    0  134    0]\n",
      " [  59    0   47    0]\n",
      " [ 134    0  292    0]\n",
      " [  20    0   10    0]]\n",
      "            neutral  sadness       joy  anger   Overall\n",
      "Precision  0.892479      NaN  0.604555    NaN       NaN\n",
      "Recall     0.929548      0.0  0.685446    0.0       NaN\n",
      "F1-score   0.910636      NaN  0.642464    NaN  0.836039\n"
     ]
    },
    {
     "name": "stderr",
     "output_type": "stream",
     "text": [
      "<ipython-input-5-7b3d2177ac82>:20: RuntimeWarning: invalid value encountered in true_divide\n",
      "  Ps = rights/matrix.sum(axis=0)\n"
     ]
    },
    {
     "name": "stdout",
     "output_type": "stream",
     "text": [
      "Epoch 001: Step:500//1266 Loss: 0.100 \n",
      "[[1794    0  108    0]\n",
      " [  63    0   43    0]\n",
      " [ 150    0  276    0]\n",
      " [  21    0    9    0]]\n",
      "            neutral  sadness       joy  anger   Overall\n",
      "Precision  0.884615      NaN  0.633027    NaN       NaN\n",
      "Recall     0.943218      0.0  0.647887    0.0       NaN\n",
      "F1-score   0.912977      NaN  0.640371    NaN  0.840097\n"
     ]
    },
    {
     "name": "stderr",
     "output_type": "stream",
     "text": [
      "<ipython-input-5-7b3d2177ac82>:20: RuntimeWarning: invalid value encountered in true_divide\n",
      "  Ps = rights/matrix.sum(axis=0)\n"
     ]
    },
    {
     "name": "stdout",
     "output_type": "stream",
     "text": [
      "Epoch 001: Step:550//1266 Loss: 0.059 \n",
      "[[1782    0  120    0]\n",
      " [  65    0   41    0]\n",
      " [ 148    0  278    0]\n",
      " [  21    0    9    0]]\n",
      "            neutral  sadness       joy  anger   Overall\n",
      "Precision  0.883929      NaN  0.620536    NaN       NaN\n",
      "Recall     0.936909      0.0  0.652582    0.0       NaN\n",
      "F1-score   0.909648      NaN  0.636156    NaN  0.836039\n"
     ]
    },
    {
     "name": "stderr",
     "output_type": "stream",
     "text": [
      "<ipython-input-5-7b3d2177ac82>:20: RuntimeWarning: invalid value encountered in true_divide\n",
      "  Ps = rights/matrix.sum(axis=0)\n"
     ]
    },
    {
     "name": "stdout",
     "output_type": "stream",
     "text": [
      "Epoch 001: Step:600//1266 Loss: 1.662 \n",
      "[[1684    0  218    0]\n",
      " [  46    0   60    0]\n",
      " [ 101    0  325    0]\n",
      " [  16    0   14    0]]\n",
      "            neutral  sadness       joy  anger   Overall\n",
      "Precision  0.911749      NaN  0.526742    NaN       NaN\n",
      "Recall     0.885384      0.0  0.762911    0.0       NaN\n",
      "F1-score   0.898373      NaN  0.623202    NaN  0.815341\n"
     ]
    },
    {
     "name": "stderr",
     "output_type": "stream",
     "text": [
      "<ipython-input-5-7b3d2177ac82>:20: RuntimeWarning: invalid value encountered in true_divide\n",
      "  Ps = rights/matrix.sum(axis=0)\n"
     ]
    },
    {
     "name": "stdout",
     "output_type": "stream",
     "text": [
      "Epoch 001: Step:650//1266 Loss: 0.407 \n",
      "[[1756    0  146    0]\n",
      " [  62    0   44    0]\n",
      " [ 134    0  292    0]\n",
      " [  22    0    8    0]]\n",
      "            neutral  sadness       joy  anger   Overall\n",
      "Precision  0.889564      NaN  0.595918    NaN       NaN\n",
      "Recall     0.923239      0.0  0.685446    0.0       NaN\n",
      "F1-score   0.906089      NaN  0.637555    NaN  0.831169\n"
     ]
    },
    {
     "name": "stderr",
     "output_type": "stream",
     "text": [
      "<ipython-input-5-7b3d2177ac82>:20: RuntimeWarning: invalid value encountered in true_divide\n",
      "  Ps = rights/matrix.sum(axis=0)\n"
     ]
    },
    {
     "name": "stdout",
     "output_type": "stream",
     "text": [
      "Epoch 001: Step:700//1266 Loss: 0.143 \n",
      "[[1845    0   57    0]\n",
      " [  80    0   26    0]\n",
      " [ 202    0  224    0]\n",
      " [  28    0    2    0]]\n",
      "            neutral  sadness       joy  anger   Overall\n",
      "Precision  0.856148      NaN  0.724919    NaN       NaN\n",
      "Recall     0.970032      0.0  0.525822    0.0       NaN\n",
      "F1-score   0.909539      NaN  0.609524    NaN  0.839692\n"
     ]
    },
    {
     "name": "stderr",
     "output_type": "stream",
     "text": [
      "<ipython-input-5-7b3d2177ac82>:20: RuntimeWarning: invalid value encountered in true_divide\n",
      "  Ps = rights/matrix.sum(axis=0)\n"
     ]
    },
    {
     "name": "stdout",
     "output_type": "stream",
     "text": [
      "Epoch 001: Step:750//1266 Loss: 0.857 \n",
      "[[1793    0  109    0]\n",
      " [  69    0   37    0]\n",
      " [ 152    0  274    0]\n",
      " [  24    0    6    0]]\n",
      "            neutral  sadness       joy  anger  Overall\n",
      "Precision  0.879784      NaN  0.643192    NaN      NaN\n",
      "Recall     0.942692      0.0  0.643192    0.0      NaN\n",
      "F1-score   0.910152      NaN  0.643192    NaN  0.83888\n"
     ]
    },
    {
     "name": "stderr",
     "output_type": "stream",
     "text": [
      "<ipython-input-5-7b3d2177ac82>:20: RuntimeWarning: invalid value encountered in true_divide\n",
      "  Ps = rights/matrix.sum(axis=0)\n"
     ]
    },
    {
     "name": "stdout",
     "output_type": "stream",
     "text": [
      "Epoch 001: Step:800//1266 Loss: 0.048 \n",
      "[[1840    0   62    0]\n",
      " [  82    0   24    0]\n",
      " [ 197    0  229    0]\n",
      " [  28    0    2    0]]\n",
      "            neutral  sadness       joy  anger   Overall\n",
      "Precision  0.857010      NaN  0.722397    NaN       NaN\n",
      "Recall     0.967403      0.0  0.537559    0.0       NaN\n",
      "F1-score   0.908866      NaN  0.616420    NaN  0.839692\n"
     ]
    },
    {
     "name": "stderr",
     "output_type": "stream",
     "text": [
      "<ipython-input-5-7b3d2177ac82>:20: RuntimeWarning: invalid value encountered in true_divide\n",
      "  Ps = rights/matrix.sum(axis=0)\n"
     ]
    },
    {
     "name": "stdout",
     "output_type": "stream",
     "text": [
      "Epoch 001: Step:850//1266 Loss: 0.533 \n",
      "[[1814    0   88    0]\n",
      " [  72    0   34    0]\n",
      " [ 172    0  254    0]\n",
      " [  26    0    4    0]]\n",
      "            neutral  sadness       joy  anger   Overall\n",
      "Precision  0.870441      NaN  0.668421    NaN       NaN\n",
      "Recall     0.953733      0.0  0.596244    0.0       NaN\n",
      "F1-score   0.910186      NaN  0.630273    NaN  0.839286\n"
     ]
    },
    {
     "name": "stderr",
     "output_type": "stream",
     "text": [
      "<ipython-input-5-7b3d2177ac82>:20: RuntimeWarning: invalid value encountered in true_divide\n",
      "  Ps = rights/matrix.sum(axis=0)\n"
     ]
    },
    {
     "name": "stdout",
     "output_type": "stream",
     "text": [
      "Epoch 001: Step:900//1266 Loss: 0.079 \n",
      "[[1721    0  181    0]\n",
      " [  51    0   55    0]\n",
      " [ 116    0  310    0]\n",
      " [  21    0    9    0]]\n",
      "            neutral  sadness       joy  anger   Overall\n",
      "Precision  0.901519      NaN  0.558559    NaN       NaN\n",
      "Recall     0.904837      0.0  0.727700    0.0       NaN\n",
      "F1-score   0.903175      NaN  0.632008    NaN  0.824269\n"
     ]
    },
    {
     "name": "stderr",
     "output_type": "stream",
     "text": [
      "<ipython-input-5-7b3d2177ac82>:20: RuntimeWarning: invalid value encountered in true_divide\n",
      "  Ps = rights/matrix.sum(axis=0)\n"
     ]
    },
    {
     "name": "stdout",
     "output_type": "stream",
     "text": [
      "Epoch 001: Step:950//1266 Loss: 0.212 \n",
      "[[1731    0  171    0]\n",
      " [  56    0   50    0]\n",
      " [ 120    0  306    0]\n",
      " [  20    0   10    0]]\n",
      "            neutral  sadness       joy  anger   Overall\n",
      "Precision  0.898287      NaN  0.569832    NaN       NaN\n",
      "Recall     0.910095      0.0  0.718310    0.0       NaN\n",
      "F1-score   0.904153      NaN  0.635514    NaN  0.826705\n"
     ]
    },
    {
     "name": "stderr",
     "output_type": "stream",
     "text": [
      "<ipython-input-5-7b3d2177ac82>:20: RuntimeWarning: invalid value encountered in true_divide\n",
      "  Ps = rights/matrix.sum(axis=0)\n"
     ]
    },
    {
     "name": "stdout",
     "output_type": "stream",
     "text": [
      "Epoch 001: Step:1000//1266 Loss: 0.109 \n",
      "[[1834    0   68    0]\n",
      " [  81    0   25    0]\n",
      " [ 185    0  241    0]\n",
      " [  28    0    2    0]]\n",
      "            neutral  sadness       joy  anger   Overall\n",
      "Precision  0.861842      NaN  0.717262    NaN       NaN\n",
      "Recall     0.964248      0.0  0.565728    0.0       NaN\n",
      "F1-score   0.910174      NaN  0.632546    NaN  0.842127\n"
     ]
    },
    {
     "name": "stderr",
     "output_type": "stream",
     "text": [
      "<ipython-input-5-7b3d2177ac82>:20: RuntimeWarning: invalid value encountered in true_divide\n",
      "  Ps = rights/matrix.sum(axis=0)\n"
     ]
    },
    {
     "name": "stdout",
     "output_type": "stream",
     "text": [
      "Epoch 001: Step:1050//1266 Loss: 0.381 \n",
      "[[1746    0  156    0]\n",
      " [  63    0   43    0]\n",
      " [ 127    0  299    0]\n",
      " [  22    0    8    0]]\n",
      "            neutral  sadness       joy  anger   Overall\n",
      "Precision  0.891726      NaN  0.590909    NaN       NaN\n",
      "Recall     0.917981      0.0  0.701878    0.0       NaN\n",
      "F1-score   0.904663      NaN  0.641631    NaN  0.829951\n"
     ]
    },
    {
     "name": "stderr",
     "output_type": "stream",
     "text": [
      "<ipython-input-5-7b3d2177ac82>:20: RuntimeWarning: invalid value encountered in true_divide\n",
      "  Ps = rights/matrix.sum(axis=0)\n"
     ]
    },
    {
     "name": "stdout",
     "output_type": "stream",
     "text": [
      "Epoch 001: Step:1100//1266 Loss: 0.135 \n",
      "[[1835    0   67    0]\n",
      " [  83    2   21    0]\n",
      " [ 182    0  244    0]\n",
      " [  27    0    3    0]]\n",
      "            neutral   sadness       joy  anger   Overall\n",
      "Precision  0.862717  1.000000  0.728358    NaN       NaN\n",
      "Recall     0.964774  0.018868  0.572770    0.0       NaN\n",
      "F1-score   0.910896  0.037037  0.641262    NaN  0.844562\n"
     ]
    },
    {
     "name": "stderr",
     "output_type": "stream",
     "text": [
      "<ipython-input-5-7b3d2177ac82>:20: RuntimeWarning: invalid value encountered in true_divide\n",
      "  Ps = rights/matrix.sum(axis=0)\n"
     ]
    },
    {
     "name": "stdout",
     "output_type": "stream",
     "text": [
      "Epoch 001: Step:1150//1266 Loss: 0.053 \n",
      "[[1756    0  146    0]\n",
      " [  62    1   43    0]\n",
      " [ 121    0  305    0]\n",
      " [  22    0    8    0]]\n",
      "            neutral   sadness       joy  anger   Overall\n",
      "Precision  0.895461  1.000000  0.607570    NaN       NaN\n",
      "Recall     0.923239  0.009434  0.715962    0.0       NaN\n",
      "F1-score   0.909138  0.018692  0.657328    NaN  0.836851\n"
     ]
    },
    {
     "name": "stderr",
     "output_type": "stream",
     "text": [
      "<ipython-input-5-7b3d2177ac82>:20: RuntimeWarning: invalid value encountered in true_divide\n",
      "  Ps = rights/matrix.sum(axis=0)\n"
     ]
    },
    {
     "name": "stdout",
     "output_type": "stream",
     "text": [
      "Epoch 001: Step:1200//1266 Loss: 0.139 \n",
      "[[1776    0  126    0]\n",
      " [  69    2   35    0]\n",
      " [ 137    0  289    0]\n",
      " [  24    0    6    0]]\n",
      "            neutral   sadness       joy  anger  Overall\n",
      "Precision  0.885344  1.000000  0.633772    NaN      NaN\n",
      "Recall     0.933754  0.018868  0.678404    0.0      NaN\n",
      "F1-score   0.908905  0.037037  0.655329    NaN  0.83888\n"
     ]
    },
    {
     "name": "stderr",
     "output_type": "stream",
     "text": [
      "<ipython-input-5-7b3d2177ac82>:20: RuntimeWarning: invalid value encountered in true_divide\n",
      "  Ps = rights/matrix.sum(axis=0)\n"
     ]
    },
    {
     "name": "stdout",
     "output_type": "stream",
     "text": [
      "Epoch 001: Step:1250//1266 Loss: 0.628 \n",
      "[[1751    2  149    0]\n",
      " [  57    8   41    0]\n",
      " [ 114    0  312    0]\n",
      " [  21    2    7    0]]\n",
      "            neutral   sadness       joy  anger   Overall\n",
      "Precision  0.901184  0.666667  0.612967    NaN       NaN\n",
      "Recall     0.920610  0.075472  0.732394    0.0       NaN\n",
      "F1-score   0.910793  0.135593  0.667380    NaN  0.840503\n"
     ]
    },
    {
     "name": "stderr",
     "output_type": "stream",
     "text": [
      "<ipython-input-5-7b3d2177ac82>:20: RuntimeWarning: invalid value encountered in true_divide\n",
      "  Ps = rights/matrix.sum(axis=0)\n"
     ]
    },
    {
     "name": "stdout",
     "output_type": "stream",
     "text": [
      "Training for epoch 2\n",
      "Epoch 002: Step:000//1266 Loss: 0.192 \n",
      "[[1764    2  136    0]\n",
      " [  62    8   36    0]\n",
      " [ 125    0  301    0]\n",
      " [  21    3    6    0]]\n",
      "            neutral   sadness       joy  anger   Overall\n",
      "Precision  0.894523  0.615385  0.628392    NaN       NaN\n",
      "Recall     0.927445  0.075472  0.706573    0.0       NaN\n",
      "F1-score   0.910687  0.134454  0.665193    NaN  0.841315\n"
     ]
    },
    {
     "name": "stderr",
     "output_type": "stream",
     "text": [
      "<ipython-input-5-7b3d2177ac82>:20: RuntimeWarning: invalid value encountered in true_divide\n",
      "  Ps = rights/matrix.sum(axis=0)\n"
     ]
    },
    {
     "name": "stdout",
     "output_type": "stream",
     "text": [
      "Epoch 002: Step:050//1266 Loss: 0.628 \n",
      "[[1673    0  229    0]\n",
      " [  44    2   60    0]\n",
      " [  78    0  348    0]\n",
      " [  18    0   12    0]]\n",
      "            neutral   sadness       joy  anger   Overall\n",
      "Precision  0.922780  1.000000  0.536210    NaN       NaN\n",
      "Recall     0.879600  0.018868  0.816901    0.0       NaN\n",
      "F1-score   0.900673  0.037037  0.647442    NaN  0.821023\n"
     ]
    },
    {
     "name": "stderr",
     "output_type": "stream",
     "text": [
      "<ipython-input-5-7b3d2177ac82>:20: RuntimeWarning: invalid value encountered in true_divide\n",
      "  Ps = rights/matrix.sum(axis=0)\n"
     ]
    },
    {
     "name": "stdout",
     "output_type": "stream",
     "text": [
      "Epoch 002: Step:100//1266 Loss: 0.473 \n",
      "[[1739    1  162    0]\n",
      " [  53    3   50    0]\n",
      " [ 105    0  321    0]\n",
      " [  19    0   11    0]]\n",
      "            neutral   sadness       joy  anger   Overall\n",
      "Precision  0.907620  0.750000  0.590074    NaN       NaN\n",
      "Recall     0.914301  0.028302  0.753521    0.0       NaN\n",
      "F1-score   0.910948  0.054545  0.661856    NaN  0.837256\n"
     ]
    },
    {
     "name": "stderr",
     "output_type": "stream",
     "text": [
      "<ipython-input-5-7b3d2177ac82>:20: RuntimeWarning: invalid value encountered in true_divide\n",
      "  Ps = rights/matrix.sum(axis=0)\n"
     ]
    },
    {
     "name": "stdout",
     "output_type": "stream",
     "text": [
      "Epoch 002: Step:150//1266 Loss: 0.389 \n",
      "[[1828    4   70    0]\n",
      " [  70   17   19    0]\n",
      " [ 169    2  255    0]\n",
      " [  24    4    2    0]]\n",
      "            neutral   sadness       joy  anger   Overall\n",
      "Precision  0.874223  0.629630  0.736994    NaN       NaN\n",
      "Recall     0.961094  0.160377  0.598592    0.0       NaN\n",
      "F1-score   0.915602  0.255639  0.660622    NaN  0.852273\n"
     ]
    },
    {
     "name": "stderr",
     "output_type": "stream",
     "text": [
      "<ipython-input-5-7b3d2177ac82>:20: RuntimeWarning: invalid value encountered in true_divide\n",
      "  Ps = rights/matrix.sum(axis=0)\n"
     ]
    },
    {
     "name": "stdout",
     "output_type": "stream",
     "text": [
      "Epoch 002: Step:200//1266 Loss: 0.396 \n",
      "[[1753    2  147    0]\n",
      " [  55    6   45    0]\n",
      " [ 114    0  312    0]\n",
      " [  21    2    7    0]]\n",
      "            neutral   sadness       joy  anger   Overall\n",
      "Precision  0.902213  0.600000  0.610568    NaN       NaN\n",
      "Recall     0.921661  0.056604  0.732394    0.0       NaN\n",
      "F1-score   0.911834  0.103448  0.665955    NaN  0.840503\n"
     ]
    },
    {
     "name": "stderr",
     "output_type": "stream",
     "text": [
      "<ipython-input-5-7b3d2177ac82>:20: RuntimeWarning: invalid value encountered in true_divide\n",
      "  Ps = rights/matrix.sum(axis=0)\n"
     ]
    },
    {
     "name": "stdout",
     "output_type": "stream",
     "text": [
      "Epoch 002: Step:250//1266 Loss: 0.272 \n",
      "[[1697    1  204    0]\n",
      " [  50    5   51    0]\n",
      " [  85    0  341    0]\n",
      " [  18    1   11    0]]\n",
      "            neutral   sadness       joy  anger  Overall\n",
      "Precision  0.917297  0.714286  0.561779    NaN      NaN\n",
      "Recall     0.892219  0.047170  0.800469    0.0      NaN\n",
      "F1-score   0.904584  0.088496  0.660213    NaN  0.82914\n"
     ]
    },
    {
     "name": "stderr",
     "output_type": "stream",
     "text": [
      "<ipython-input-5-7b3d2177ac82>:20: RuntimeWarning: invalid value encountered in true_divide\n",
      "  Ps = rights/matrix.sum(axis=0)\n"
     ]
    },
    {
     "name": "stdout",
     "output_type": "stream",
     "text": [
      "Epoch 002: Step:300//1266 Loss: 0.426 \n",
      "[[1766    1  135    0]\n",
      " [  62    5   39    0]\n",
      " [ 121    0  305    0]\n",
      " [  21    2    7    0]]\n",
      "            neutral   sadness       joy  anger   Overall\n",
      "Precision  0.896447  0.625000  0.627572    NaN       NaN\n",
      "Recall     0.928496  0.047170  0.715962    0.0       NaN\n",
      "F1-score   0.912190  0.087719  0.668860    NaN  0.842532\n"
     ]
    },
    {
     "name": "stderr",
     "output_type": "stream",
     "text": [
      "<ipython-input-5-7b3d2177ac82>:20: RuntimeWarning: invalid value encountered in true_divide\n",
      "  Ps = rights/matrix.sum(axis=0)\n"
     ]
    },
    {
     "name": "stdout",
     "output_type": "stream",
     "text": [
      "Epoch 002: Step:350//1266 Loss: 0.531 \n",
      "[[1826    3   73    0]\n",
      " [  75   11   20    0]\n",
      " [ 170    0  256    0]\n",
      " [  24    3    3    0]]\n",
      "            neutral   sadness       joy  anger   Overall\n",
      "Precision  0.871599  0.647059  0.727273    NaN       NaN\n",
      "Recall     0.960042  0.103774  0.600939    0.0       NaN\n",
      "F1-score   0.913685  0.178862  0.658098    NaN  0.849432\n"
     ]
    },
    {
     "name": "stderr",
     "output_type": "stream",
     "text": [
      "<ipython-input-5-7b3d2177ac82>:20: RuntimeWarning: invalid value encountered in true_divide\n",
      "  Ps = rights/matrix.sum(axis=0)\n"
     ]
    },
    {
     "name": "stdout",
     "output_type": "stream",
     "text": [
      "Epoch 002: Step:400//1266 Loss: 0.240 \n",
      "[[1737    7  158    0]\n",
      " [  45   18   43    0]\n",
      " [ 107    0  319    0]\n",
      " [  17    4    9    0]]\n",
      "            neutral   sadness       joy  anger   Overall\n",
      "Precision  0.911333  0.620690  0.603025    NaN       NaN\n",
      "Recall     0.913249  0.169811  0.748826    0.0       NaN\n",
      "F1-score   0.912290  0.266667  0.668063    NaN  0.841721\n"
     ]
    },
    {
     "name": "stderr",
     "output_type": "stream",
     "text": [
      "<ipython-input-5-7b3d2177ac82>:20: RuntimeWarning: invalid value encountered in true_divide\n",
      "  Ps = rights/matrix.sum(axis=0)\n"
     ]
    },
    {
     "name": "stdout",
     "output_type": "stream",
     "text": [
      "Epoch 002: Step:450//1266 Loss: 0.046 \n",
      "[[1753    2  147    0]\n",
      " [  56   13   37    0]\n",
      " [ 120    0  306    0]\n",
      " [  17    4    9    0]]\n",
      "            neutral   sadness       joy  anger   Overall\n",
      "Precision  0.900822  0.684211  0.613226    NaN       NaN\n",
      "Recall     0.921661  0.122642  0.718310    0.0       NaN\n",
      "F1-score   0.911123  0.208000  0.661622    NaN  0.840909\n"
     ]
    },
    {
     "name": "stderr",
     "output_type": "stream",
     "text": [
      "<ipython-input-5-7b3d2177ac82>:20: RuntimeWarning: invalid value encountered in true_divide\n",
      "  Ps = rights/matrix.sum(axis=0)\n"
     ]
    },
    {
     "name": "stdout",
     "output_type": "stream",
     "text": [
      "Epoch 002: Step:500//1266 Loss: 0.118 \n",
      "[[1767    5  130    0]\n",
      " [  59   15   32    0]\n",
      " [ 124    0  302    0]\n",
      " [  18    3    9    0]]\n",
      "            neutral   sadness       joy  anger   Overall\n",
      "Precision  0.897866  0.652174  0.638478    NaN       NaN\n",
      "Recall     0.929022  0.141509  0.708920    0.0       NaN\n",
      "F1-score   0.913178  0.232558  0.671858    NaN  0.845779\n"
     ]
    },
    {
     "name": "stderr",
     "output_type": "stream",
     "text": [
      "<ipython-input-5-7b3d2177ac82>:20: RuntimeWarning: invalid value encountered in true_divide\n",
      "  Ps = rights/matrix.sum(axis=0)\n"
     ]
    },
    {
     "name": "stdout",
     "output_type": "stream",
     "text": [
      "Epoch 002: Step:550//1266 Loss: 0.035 \n",
      "[[1731    3  168    0]\n",
      " [  50   15   41    0]\n",
      " [ 106    0  320    0]\n",
      " [  18    3    9    0]]\n",
      "            neutral   sadness       joy  anger   Overall\n",
      "Precision  0.908661  0.714286  0.594796    NaN       NaN\n",
      "Recall     0.910095  0.141509  0.751174    0.0       NaN\n",
      "F1-score   0.909377  0.236220  0.663900    NaN  0.838474\n"
     ]
    },
    {
     "name": "stderr",
     "output_type": "stream",
     "text": [
      "<ipython-input-5-7b3d2177ac82>:20: RuntimeWarning: invalid value encountered in true_divide\n",
      "  Ps = rights/matrix.sum(axis=0)\n"
     ]
    },
    {
     "name": "stdout",
     "output_type": "stream",
     "text": [
      "Epoch 002: Step:600//1266 Loss: 1.475 \n",
      "[[1739    3  160    0]\n",
      " [  56    8   42    0]\n",
      " [ 111    0  315    0]\n",
      " [  18    3    9    0]]\n",
      "            neutral   sadness       joy  anger   Overall\n",
      "Precision  0.903846  0.571429  0.598859    NaN       NaN\n",
      "Recall     0.914301  0.075472  0.739437    0.0       NaN\n",
      "F1-score   0.909043  0.133333  0.661765    NaN  0.836851\n"
     ]
    },
    {
     "name": "stderr",
     "output_type": "stream",
     "text": [
      "<ipython-input-5-7b3d2177ac82>:20: RuntimeWarning: invalid value encountered in true_divide\n",
      "  Ps = rights/matrix.sum(axis=0)\n"
     ]
    },
    {
     "name": "stdout",
     "output_type": "stream",
     "text": [
      "Epoch 002: Step:650//1266 Loss: 0.456 \n",
      "[[1761    4  137    0]\n",
      " [  55   17   34    0]\n",
      " [ 117    0  309    0]\n",
      " [  17    4    9    0]]\n",
      "            neutral   sadness       joy  anger   Overall\n",
      "Precision  0.903077  0.680000  0.631902    NaN       NaN\n",
      "Recall     0.925867  0.160377  0.725352    0.0       NaN\n",
      "F1-score   0.914330  0.259542  0.675410    NaN  0.846997\n"
     ]
    },
    {
     "name": "stderr",
     "output_type": "stream",
     "text": [
      "<ipython-input-5-7b3d2177ac82>:20: RuntimeWarning: invalid value encountered in true_divide\n",
      "  Ps = rights/matrix.sum(axis=0)\n"
     ]
    },
    {
     "name": "stdout",
     "output_type": "stream",
     "text": [
      "Epoch 002: Step:700//1266 Loss: 0.087 \n",
      "[[1829    6   67    0]\n",
      " [  66   23   17    0]\n",
      " [ 174    2  250    0]\n",
      " [  22    6    2    0]]\n",
      "            neutral   sadness       joy  anger   Overall\n",
      "Precision  0.874701  0.621622  0.744048    NaN       NaN\n",
      "Recall     0.961619  0.216981  0.586854    0.0       NaN\n",
      "F1-score   0.916103  0.321678  0.656168    NaN  0.853084\n"
     ]
    },
    {
     "name": "stderr",
     "output_type": "stream",
     "text": [
      "<ipython-input-5-7b3d2177ac82>:20: RuntimeWarning: invalid value encountered in true_divide\n",
      "  Ps = rights/matrix.sum(axis=0)\n"
     ]
    },
    {
     "name": "stdout",
     "output_type": "stream",
     "text": [
      "Epoch 002: Step:750//1266 Loss: 1.035 \n",
      "[[1765    2  135    0]\n",
      " [  55   15   36    0]\n",
      " [ 118    0  308    0]\n",
      " [  18    2   10    0]]\n",
      "            neutral   sadness       joy  anger   Overall\n",
      "Precision  0.902352  0.789474  0.629857    NaN       NaN\n",
      "Recall     0.927971  0.141509  0.723005    0.0       NaN\n",
      "F1-score   0.914982  0.240000  0.673224    NaN  0.847403\n"
     ]
    },
    {
     "name": "stderr",
     "output_type": "stream",
     "text": [
      "<ipython-input-5-7b3d2177ac82>:20: RuntimeWarning: invalid value encountered in true_divide\n",
      "  Ps = rights/matrix.sum(axis=0)\n"
     ]
    },
    {
     "name": "stdout",
     "output_type": "stream",
     "text": [
      "Epoch 002: Step:800//1266 Loss: 0.035 \n",
      "[[1818    8   76    0]\n",
      " [  65   23   18    0]\n",
      " [ 167    1  258    0]\n",
      " [  21    6    3    0]]\n",
      "            neutral   sadness       joy  anger   Overall\n",
      "Precision  0.877837  0.605263  0.726761    NaN       NaN\n",
      "Recall     0.955836  0.216981  0.605634    0.0       NaN\n",
      "F1-score   0.915177  0.319444  0.660691    NaN  0.851867\n"
     ]
    },
    {
     "name": "stderr",
     "output_type": "stream",
     "text": [
      "<ipython-input-5-7b3d2177ac82>:20: RuntimeWarning: invalid value encountered in true_divide\n",
      "  Ps = rights/matrix.sum(axis=0)\n"
     ]
    },
    {
     "name": "stdout",
     "output_type": "stream",
     "text": [
      "Epoch 002: Step:850//1266 Loss: 0.497 \n",
      "[[1762   17  123    0]\n",
      " [  44   36   26    0]\n",
      " [ 129    5  292    0]\n",
      " [  17    8    5    0]]\n",
      "            neutral   sadness       joy  anger   Overall\n",
      "Precision  0.902664  0.545455  0.654709    NaN       NaN\n",
      "Recall     0.926393  0.339623  0.685446    0.0       NaN\n",
      "F1-score   0.914375  0.418605  0.669725    NaN  0.848214\n"
     ]
    },
    {
     "name": "stderr",
     "output_type": "stream",
     "text": [
      "<ipython-input-5-7b3d2177ac82>:20: RuntimeWarning: invalid value encountered in true_divide\n",
      "  Ps = rights/matrix.sum(axis=0)\n"
     ]
    },
    {
     "name": "stdout",
     "output_type": "stream",
     "text": [
      "Epoch 002: Step:900//1266 Loss: 0.044 \n",
      "[[1713   19  170    0]\n",
      " [  39   33   34    0]\n",
      " [  97    3  326    0]\n",
      " [  16    6    8    0]]\n",
      "            neutral   sadness       joy  anger   Overall\n",
      "Precision  0.918499  0.540984  0.605948    NaN       NaN\n",
      "Recall     0.900631  0.311321  0.765258    0.0       NaN\n",
      "F1-score   0.909477  0.395210  0.676349    NaN  0.840909\n"
     ]
    },
    {
     "name": "stderr",
     "output_type": "stream",
     "text": [
      "<ipython-input-5-7b3d2177ac82>:20: RuntimeWarning: invalid value encountered in true_divide\n",
      "  Ps = rights/matrix.sum(axis=0)\n"
     ]
    },
    {
     "name": "stdout",
     "output_type": "stream",
     "text": [
      "Epoch 002: Step:950//1266 Loss: 0.091 \n",
      "[[1718   13  171    0]\n",
      " [  43   29   34    0]\n",
      " [  98    0  328    0]\n",
      " [  16    5    9    0]]\n",
      "            neutral   sadness       joy  anger   Overall\n",
      "Precision  0.916267  0.617021  0.605166    NaN       NaN\n",
      "Recall     0.903260  0.273585  0.769953    0.0       NaN\n",
      "F1-score   0.909717  0.379085  0.677686    NaN  0.842127\n"
     ]
    },
    {
     "name": "stderr",
     "output_type": "stream",
     "text": [
      "<ipython-input-5-7b3d2177ac82>:20: RuntimeWarning: invalid value encountered in true_divide\n",
      "  Ps = rights/matrix.sum(axis=0)\n"
     ]
    },
    {
     "name": "stdout",
     "output_type": "stream",
     "text": [
      "Epoch 002: Step:1000//1266 Loss: 0.158 \n",
      "[[1818    2   82    0]\n",
      " [  65   13   28    0]\n",
      " [ 157    0  269    0]\n",
      " [  22    2    6    0]]\n",
      "            neutral   sadness       joy  anger   Overall\n",
      "Precision  0.881668  0.764706  0.698701    NaN       NaN\n",
      "Recall     0.955836  0.122642  0.631455    0.0       NaN\n",
      "F1-score   0.917255  0.211382  0.663379    NaN  0.852273\n"
     ]
    },
    {
     "name": "stderr",
     "output_type": "stream",
     "text": [
      "<ipython-input-5-7b3d2177ac82>:20: RuntimeWarning: invalid value encountered in true_divide\n",
      "  Ps = rights/matrix.sum(axis=0)\n"
     ]
    },
    {
     "name": "stdout",
     "output_type": "stream",
     "text": [
      "Epoch 002: Step:1050//1266 Loss: 0.485 \n",
      "[[1743    5  154    0]\n",
      " [  52   22   32    0]\n",
      " [ 107    0  319    0]\n",
      " [  19    3    8    0]]\n",
      "            neutral   sadness       joy  anger   Overall\n",
      "Precision  0.907340  0.733333  0.621832    NaN       NaN\n",
      "Recall     0.916404  0.207547  0.748826    0.0       NaN\n",
      "F1-score   0.911849  0.323529  0.679446    NaN  0.845779\n"
     ]
    },
    {
     "name": "stderr",
     "output_type": "stream",
     "text": [
      "<ipython-input-5-7b3d2177ac82>:20: RuntimeWarning: invalid value encountered in true_divide\n",
      "  Ps = rights/matrix.sum(axis=0)\n"
     ]
    },
    {
     "name": "stdout",
     "output_type": "stream",
     "text": [
      "Epoch 002: Step:1100//1266 Loss: 0.093 \n",
      "[[1812   15   75    0]\n",
      " [  55   37   14    0]\n",
      " [ 160    5  261    0]\n",
      " [  20    7    3    0]]\n",
      "            neutral   sadness       joy  anger   Overall\n",
      "Precision  0.885198  0.578125  0.739377    NaN       NaN\n",
      "Recall     0.952681  0.349057  0.612676    0.0       NaN\n",
      "F1-score   0.917701  0.435294  0.670090    NaN  0.856331\n"
     ]
    },
    {
     "name": "stderr",
     "output_type": "stream",
     "text": [
      "<ipython-input-5-7b3d2177ac82>:20: RuntimeWarning: invalid value encountered in true_divide\n",
      "  Ps = rights/matrix.sum(axis=0)\n"
     ]
    },
    {
     "name": "stdout",
     "output_type": "stream",
     "text": [
      "Epoch 002: Step:1150//1266 Loss: 0.040 \n",
      "[[1743    7  152    0]\n",
      " [  51   27   28    0]\n",
      " [ 107    1  318    0]\n",
      " [  18    6    6    0]]\n",
      "            neutral   sadness       joy  anger   Overall\n",
      "Precision  0.908286  0.658537  0.630952    NaN       NaN\n",
      "Recall     0.916404  0.254717  0.746479    0.0       NaN\n",
      "F1-score   0.912327  0.367347  0.683871    NaN  0.847403\n"
     ]
    },
    {
     "name": "stderr",
     "output_type": "stream",
     "text": [
      "<ipython-input-5-7b3d2177ac82>:20: RuntimeWarning: invalid value encountered in true_divide\n",
      "  Ps = rights/matrix.sum(axis=0)\n"
     ]
    },
    {
     "name": "stdout",
     "output_type": "stream",
     "text": [
      "Epoch 002: Step:1200//1266 Loss: 0.150 \n",
      "[[1780    4  118    0]\n",
      " [  57   24   25    0]\n",
      " [ 123    0  303    0]\n",
      " [  18    6    6    0]]\n",
      "            neutral   sadness       joy  anger   Overall\n",
      "Precision  0.899899  0.705882  0.670354    NaN       NaN\n",
      "Recall     0.935857  0.226415  0.711268    0.0       NaN\n",
      "F1-score   0.917526  0.342857  0.690205    NaN  0.855114\n"
     ]
    },
    {
     "name": "stderr",
     "output_type": "stream",
     "text": [
      "<ipython-input-5-7b3d2177ac82>:20: RuntimeWarning: invalid value encountered in true_divide\n",
      "  Ps = rights/matrix.sum(axis=0)\n"
     ]
    },
    {
     "name": "stdout",
     "output_type": "stream",
     "text": [
      "Epoch 002: Step:1250//1266 Loss: 0.511 \n",
      "[[1682   23  197    0]\n",
      " [  35   40   31    0]\n",
      " [  84    5  337    0]\n",
      " [  14    7    9    0]]\n",
      "            neutral   sadness       joy  anger   Overall\n",
      "Precision  0.926722  0.533333  0.587108    NaN       NaN\n",
      "Recall     0.884332  0.377358  0.791080    0.0       NaN\n",
      "F1-score   0.905031  0.441989  0.674000    NaN  0.835633\n"
     ]
    },
    {
     "name": "stderr",
     "output_type": "stream",
     "text": [
      "<ipython-input-5-7b3d2177ac82>:20: RuntimeWarning: invalid value encountered in true_divide\n",
      "  Ps = rights/matrix.sum(axis=0)\n"
     ]
    },
    {
     "name": "stdout",
     "output_type": "stream",
     "text": [
      "Training for epoch 3\n",
      "Epoch 003: Step:000//1266 Loss: 0.223 \n",
      "[[1715   21  166    0]\n",
      " [  40   41   25    0]\n",
      " [  95    4  327    0]\n",
      " [  14    8    8    0]]\n",
      "            neutral   sadness       joy  anger   Overall\n",
      "Precision  0.920064  0.554054  0.621673    NaN       NaN\n",
      "Recall     0.901682  0.386792  0.767606    0.0       NaN\n",
      "F1-score   0.910781  0.455556  0.686975    NaN  0.845373\n"
     ]
    },
    {
     "name": "stderr",
     "output_type": "stream",
     "text": [
      "<ipython-input-5-7b3d2177ac82>:20: RuntimeWarning: invalid value encountered in true_divide\n",
      "  Ps = rights/matrix.sum(axis=0)\n"
     ]
    },
    {
     "name": "stdout",
     "output_type": "stream",
     "text": [
      "Epoch 003: Step:050//1266 Loss: 0.665 \n",
      "[[1654    7  241    0]\n",
      " [  40   24   42    0]\n",
      " [  67    0  359    0]\n",
      " [  15    3   12    0]]\n",
      "            neutral   sadness       joy  anger   Overall\n",
      "Precision  0.931306  0.705882  0.548930    NaN       NaN\n",
      "Recall     0.869611  0.226415  0.842723    0.0       NaN\n",
      "F1-score   0.899402  0.342857  0.664815    NaN  0.826705\n"
     ]
    },
    {
     "name": "stderr",
     "output_type": "stream",
     "text": [
      "<ipython-input-5-7b3d2177ac82>:20: RuntimeWarning: invalid value encountered in true_divide\n",
      "  Ps = rights/matrix.sum(axis=0)\n"
     ]
    },
    {
     "name": "stdout",
     "output_type": "stream",
     "text": [
      "Epoch 003: Step:100//1266 Loss: 0.416 \n",
      "[[1741    7  154    0]\n",
      " [  50   27   29    0]\n",
      " [ 104    0  322    0]\n",
      " [  17    5    8    0]]\n",
      "            neutral   sadness       joy  anger   Overall\n",
      "Precision  0.910565  0.692308  0.627680    NaN       NaN\n",
      "Recall     0.915352  0.254717  0.755869    0.0       NaN\n",
      "F1-score   0.912952  0.372414  0.685836    NaN  0.848214\n"
     ]
    },
    {
     "name": "stderr",
     "output_type": "stream",
     "text": [
      "<ipython-input-5-7b3d2177ac82>:20: RuntimeWarning: invalid value encountered in true_divide\n",
      "  Ps = rights/matrix.sum(axis=0)\n"
     ]
    },
    {
     "name": "stdout",
     "output_type": "stream",
     "text": [
      "Epoch 003: Step:150//1266 Loss: 0.332 \n",
      "[[1804   29   69    0]\n",
      " [  45   45   16    0]\n",
      " [ 157   14  255    0]\n",
      " [  17   11    2    0]]\n",
      "            neutral   sadness       joy  anger   Overall\n",
      "Precision  0.891745  0.454545  0.745614    NaN       NaN\n",
      "Recall     0.948475  0.424528  0.598592    0.0       NaN\n",
      "F1-score   0.919236  0.439024  0.664062    NaN  0.853896\n"
     ]
    },
    {
     "name": "stderr",
     "output_type": "stream",
     "text": [
      "<ipython-input-5-7b3d2177ac82>:20: RuntimeWarning: invalid value encountered in true_divide\n",
      "  Ps = rights/matrix.sum(axis=0)\n"
     ]
    },
    {
     "name": "stdout",
     "output_type": "stream",
     "text": [
      "Epoch 003: Step:200//1266 Loss: 0.297 \n",
      "[[1738   23  141    0]\n",
      " [  39   44   23    0]\n",
      " [ 108    7  311    0]\n",
      " [  14   10    6    0]]\n",
      "            neutral   sadness       joy  anger   Overall\n",
      "Precision  0.915219  0.523810  0.646570    NaN       NaN\n",
      "Recall     0.913775  0.415094  0.730047    0.0       NaN\n",
      "F1-score   0.914496  0.463158  0.685777    NaN  0.849432\n"
     ]
    },
    {
     "name": "stderr",
     "output_type": "stream",
     "text": [
      "<ipython-input-5-7b3d2177ac82>:20: RuntimeWarning: invalid value encountered in true_divide\n",
      "  Ps = rights/matrix.sum(axis=0)\n"
     ]
    },
    {
     "name": "stdout",
     "output_type": "stream",
     "text": [
      "Epoch 003: Step:250//1266 Loss: 0.390 \n",
      "[[1662   19  221    0]\n",
      " [  34   41   31    0]\n",
      " [  75    2  349    0]\n",
      " [  13    9    8    0]]\n",
      "            neutral   sadness       joy  anger   Overall\n",
      "Precision  0.931614  0.577465  0.573071    NaN       NaN\n",
      "Recall     0.873817  0.386792  0.819249    0.0       NaN\n",
      "F1-score   0.901790  0.463277  0.674396    NaN  0.832792\n"
     ]
    },
    {
     "name": "stderr",
     "output_type": "stream",
     "text": [
      "<ipython-input-5-7b3d2177ac82>:20: RuntimeWarning: invalid value encountered in true_divide\n",
      "  Ps = rights/matrix.sum(axis=0)\n"
     ]
    },
    {
     "name": "stdout",
     "output_type": "stream",
     "text": [
      "Epoch 003: Step:300//1266 Loss: 0.270 \n",
      "[[1754   18  130    0]\n",
      " [  43   41   22    0]\n",
      " [ 112    5  309    0]\n",
      " [  14   10    6    0]]\n",
      "            neutral   sadness       joy  anger   Overall\n",
      "Precision  0.912116  0.554054  0.661670    NaN       NaN\n",
      "Recall     0.922187  0.386792  0.725352    0.0       NaN\n",
      "F1-score   0.917124  0.455556  0.692049    NaN  0.853896\n"
     ]
    },
    {
     "name": "stderr",
     "output_type": "stream",
     "text": [
      "<ipython-input-5-7b3d2177ac82>:20: RuntimeWarning: invalid value encountered in true_divide\n",
      "  Ps = rights/matrix.sum(axis=0)\n"
     ]
    },
    {
     "name": "stdout",
     "output_type": "stream",
     "text": [
      "Epoch 003: Step:350//1266 Loss: 0.477 \n",
      "[[1816   22   64    0]\n",
      " [  48   43   15    0]\n",
      " [ 159   12  255    0]\n",
      " [  17   11    2    0]]\n",
      "            neutral   sadness       joy  anger   Overall\n",
      "Precision  0.890196  0.488636  0.758929    NaN       NaN\n",
      "Recall     0.954784  0.405660  0.598592    0.0       NaN\n",
      "F1-score   0.921360  0.443299  0.669291    NaN  0.857955\n"
     ]
    },
    {
     "name": "stderr",
     "output_type": "stream",
     "text": [
      "<ipython-input-5-7b3d2177ac82>:20: RuntimeWarning: invalid value encountered in true_divide\n",
      "  Ps = rights/matrix.sum(axis=0)\n"
     ]
    },
    {
     "name": "stdout",
     "output_type": "stream",
     "text": [
      "Epoch 003: Step:400//1266 Loss: 0.134 \n",
      "[[1742   16  144    0]\n",
      " [  41   42   23    0]\n",
      " [ 104    6  316    0]\n",
      " [  13    9    8    0]]\n",
      "            neutral   sadness       joy  anger   Overall\n",
      "Precision  0.916842  0.575342  0.643585    NaN       NaN\n",
      "Recall     0.915878  0.396226  0.741784    0.0       NaN\n",
      "F1-score   0.916360  0.469274  0.689204    NaN  0.852273\n"
     ]
    },
    {
     "name": "stderr",
     "output_type": "stream",
     "text": [
      "<ipython-input-5-7b3d2177ac82>:20: RuntimeWarning: invalid value encountered in true_divide\n",
      "  Ps = rights/matrix.sum(axis=0)\n"
     ]
    },
    {
     "name": "stdout",
     "output_type": "stream",
     "text": [
      "Epoch 003: Step:450//1266 Loss: 0.061 \n",
      "[[1741   18  143    0]\n",
      " [  41   45   20    0]\n",
      " [ 108    6  312    0]\n",
      " [  13    9    8    0]]\n",
      "            neutral   sadness       joy  anger   Overall\n",
      "Precision  0.914871  0.576923  0.645963    NaN       NaN\n",
      "Recall     0.915352  0.424528  0.732394    0.0       NaN\n",
      "F1-score   0.915112  0.489130  0.686469    NaN  0.851461\n"
     ]
    },
    {
     "name": "stderr",
     "output_type": "stream",
     "text": [
      "<ipython-input-5-7b3d2177ac82>:20: RuntimeWarning: invalid value encountered in true_divide\n",
      "  Ps = rights/matrix.sum(axis=0)\n"
     ]
    },
    {
     "name": "stdout",
     "output_type": "stream",
     "text": [
      "Epoch 003: Step:500//1266 Loss: 0.070 \n",
      "[[1767   12  123    0]\n",
      " [  46   40   20    0]\n",
      " [ 114    6  306    0]\n",
      " [  14    8    8    0]]\n",
      "            neutral   sadness       joy  anger   Overall\n",
      "Precision  0.910356  0.606061  0.669584    NaN       NaN\n",
      "Recall     0.929022  0.377358  0.718310    0.0       NaN\n",
      "F1-score   0.919594  0.465116  0.693092    NaN  0.857549\n"
     ]
    },
    {
     "name": "stderr",
     "output_type": "stream",
     "text": [
      "<ipython-input-5-7b3d2177ac82>:20: RuntimeWarning: invalid value encountered in true_divide\n",
      "  Ps = rights/matrix.sum(axis=0)\n"
     ]
    },
    {
     "name": "stdout",
     "output_type": "stream",
     "text": [
      "Epoch 003: Step:550//1266 Loss: 0.027 \n",
      "[[1705   17  180    0]\n",
      " [  38   43   25    0]\n",
      " [  89    6  331    0]\n",
      " [  13    9    8    0]]\n",
      "            neutral   sadness       joy  anger  Overall\n",
      "Precision  0.924119  0.573333  0.608456    NaN      NaN\n",
      "Recall     0.896425  0.405660  0.776995    0.0      NaN\n",
      "F1-score   0.910061  0.475138  0.682474    NaN  0.84375\n"
     ]
    },
    {
     "name": "stderr",
     "output_type": "stream",
     "text": [
      "<ipython-input-5-7b3d2177ac82>:20: RuntimeWarning: invalid value encountered in true_divide\n",
      "  Ps = rights/matrix.sum(axis=0)\n"
     ]
    },
    {
     "name": "stdout",
     "output_type": "stream",
     "text": [
      "Epoch 003: Step:600//1266 Loss: 1.279 \n",
      "[[1735    8  159    0]\n",
      " [  48   31   27    0]\n",
      " [ 104    1  321    0]\n",
      " [  16    5    9    0]]\n",
      "            neutral   sadness       joy  anger   Overall\n",
      "Precision  0.911718  0.688889  0.622093    NaN       NaN\n",
      "Recall     0.912198  0.292453  0.753521    0.0       NaN\n",
      "F1-score   0.911958  0.410596  0.681529    NaN  0.846997\n"
     ]
    },
    {
     "name": "stderr",
     "output_type": "stream",
     "text": [
      "<ipython-input-5-7b3d2177ac82>:20: RuntimeWarning: invalid value encountered in true_divide\n",
      "  Ps = rights/matrix.sum(axis=0)\n"
     ]
    },
    {
     "name": "stdout",
     "output_type": "stream",
     "text": [
      "Epoch 003: Step:650//1266 Loss: 0.379 \n",
      "[[1734   13  155    0]\n",
      " [  43   41   22    0]\n",
      " [ 102    4  320    0]\n",
      " [  14    7    9    0]]\n",
      "            neutral   sadness       joy  anger   Overall\n",
      "Precision  0.916006  0.630769  0.632411    NaN       NaN\n",
      "Recall     0.911672  0.386792  0.751174    0.0       NaN\n",
      "F1-score   0.913834  0.479532  0.686695    NaN  0.850244\n"
     ]
    },
    {
     "name": "stderr",
     "output_type": "stream",
     "text": [
      "<ipython-input-5-7b3d2177ac82>:20: RuntimeWarning: invalid value encountered in true_divide\n",
      "  Ps = rights/matrix.sum(axis=0)\n"
     ]
    },
    {
     "name": "stdout",
     "output_type": "stream",
     "text": [
      "Epoch 003: Step:700//1266 Loss: 0.126 \n",
      "[[1816    9   77    0]\n",
      " [  54   35   17    0]\n",
      " [ 157    2  267    0]\n",
      " [  19    8    3    0]]\n",
      "            neutral   sadness       joy  anger   Overall\n",
      "Precision  0.887586  0.648148  0.733516    NaN       NaN\n",
      "Recall     0.954784  0.330189  0.626761    0.0       NaN\n",
      "F1-score   0.919959  0.437500  0.675949    NaN  0.859578\n"
     ]
    },
    {
     "name": "stderr",
     "output_type": "stream",
     "text": [
      "<ipython-input-5-7b3d2177ac82>:20: RuntimeWarning: invalid value encountered in true_divide\n",
      "  Ps = rights/matrix.sum(axis=0)\n"
     ]
    },
    {
     "name": "stdout",
     "output_type": "stream",
     "text": [
      "Epoch 003: Step:750//1266 Loss: 0.954 \n",
      "[[1745    8  149    0]\n",
      " [  44   37   25    0]\n",
      " [ 105    2  319    0]\n",
      " [  15    6    9    0]]\n",
      "            neutral   sadness       joy  anger   Overall\n",
      "Precision  0.914091  0.698113  0.635458    NaN       NaN\n",
      "Recall     0.917455  0.349057  0.748826    0.0       NaN\n",
      "F1-score   0.915770  0.465409  0.687500    NaN  0.852679\n"
     ]
    },
    {
     "name": "stderr",
     "output_type": "stream",
     "text": [
      "<ipython-input-5-7b3d2177ac82>:20: RuntimeWarning: invalid value encountered in true_divide\n",
      "  Ps = rights/matrix.sum(axis=0)\n"
     ]
    },
    {
     "name": "stdout",
     "output_type": "stream",
     "text": [
      "Epoch 003: Step:800//1266 Loss: 0.021 \n",
      "[[1834    8   60    0]\n",
      " [  55   35   16    0]\n",
      " [ 172    1  253    0]\n",
      " [  21    7    2    0]]\n",
      "            neutral   sadness       joy  anger   Overall\n",
      "Precision  0.880884  0.686275  0.764350    NaN       NaN\n",
      "Recall     0.964248  0.330189  0.593897    0.0       NaN\n",
      "F1-score   0.920683  0.445860  0.668428    NaN  0.861201\n"
     ]
    },
    {
     "name": "stderr",
     "output_type": "stream",
     "text": [
      "<ipython-input-5-7b3d2177ac82>:20: RuntimeWarning: invalid value encountered in true_divide\n",
      "  Ps = rights/matrix.sum(axis=0)\n"
     ]
    },
    {
     "name": "stdout",
     "output_type": "stream",
     "text": [
      "Epoch 003: Step:850//1266 Loss: 0.409 \n",
      "[[1746   25  131    0]\n",
      " [  39   47   20    0]\n",
      " [ 110    7  309    0]\n",
      " [  13   11    6    0]]\n",
      "            neutral   sadness       joy  anger   Overall\n",
      "Precision  0.915094  0.522222  0.663090    NaN       NaN\n",
      "Recall     0.917981  0.443396  0.725352    0.0       NaN\n",
      "F1-score   0.916535  0.479592  0.692825    NaN  0.853084\n"
     ]
    },
    {
     "name": "stderr",
     "output_type": "stream",
     "text": [
      "<ipython-input-5-7b3d2177ac82>:20: RuntimeWarning: invalid value encountered in true_divide\n",
      "  Ps = rights/matrix.sum(axis=0)\n"
     ]
    },
    {
     "name": "stdout",
     "output_type": "stream",
     "text": [
      "Epoch 003: Step:900//1266 Loss: 0.032 \n",
      "[[1726   35  141    0]\n",
      " [  32   52   22    0]\n",
      " [ 104    9  313    0]\n",
      " [  13   11    6    0]]\n",
      "            neutral   sadness       joy  anger  Overall\n",
      "Precision  0.920533  0.485981  0.649378    NaN      NaN\n",
      "Recall     0.907466  0.490566  0.734742    0.0      NaN\n",
      "F1-score   0.913953  0.488263  0.689427    NaN  0.84862\n"
     ]
    },
    {
     "name": "stderr",
     "output_type": "stream",
     "text": [
      "<ipython-input-5-7b3d2177ac82>:20: RuntimeWarning: invalid value encountered in true_divide\n",
      "  Ps = rights/matrix.sum(axis=0)\n"
     ]
    },
    {
     "name": "stdout",
     "output_type": "stream",
     "text": [
      "Epoch 003: Step:950//1266 Loss: 0.096 \n",
      "[[1678   20  204    0]\n",
      " [  32   44   30    0]\n",
      " [  78    4  344    0]\n",
      " [  13   10    7    0]]\n",
      "            neutral   sadness       joy  anger   Overall\n",
      "Precision  0.931705  0.564103  0.588034    NaN       NaN\n",
      "Recall     0.882229  0.415094  0.807512    0.0       NaN\n",
      "F1-score   0.906292  0.478261  0.680514    NaN  0.838474\n"
     ]
    },
    {
     "name": "stderr",
     "output_type": "stream",
     "text": [
      "<ipython-input-5-7b3d2177ac82>:20: RuntimeWarning: invalid value encountered in true_divide\n",
      "  Ps = rights/matrix.sum(axis=0)\n"
     ]
    },
    {
     "name": "stdout",
     "output_type": "stream",
     "text": [
      "Epoch 003: Step:1000//1266 Loss: 0.104 \n",
      "[[1820    7   75    0]\n",
      " [  57   33   16    0]\n",
      " [ 153    1  272    0]\n",
      " [  19    7    4    0]]\n",
      "            neutral   sadness       joy  anger   Overall\n",
      "Precision  0.888238  0.687500  0.741144    NaN       NaN\n",
      "Recall     0.956887  0.311321  0.638498    0.0       NaN\n",
      "F1-score   0.921286  0.428571  0.686003    NaN  0.862419\n"
     ]
    },
    {
     "name": "stderr",
     "output_type": "stream",
     "text": [
      "<ipython-input-5-7b3d2177ac82>:20: RuntimeWarning: invalid value encountered in true_divide\n",
      "  Ps = rights/matrix.sum(axis=0)\n"
     ]
    },
    {
     "name": "stdout",
     "output_type": "stream",
     "text": [
      "Epoch 003: Step:1050//1266 Loss: 0.320 \n",
      "[[1725   10  167    0]\n",
      " [  39   39   28    0]\n",
      " [  96    1  329    0]\n",
      " [  15    8    7    0]]\n",
      "            neutral   sadness       joy  anger   Overall\n",
      "Precision  0.920000  0.672414  0.619586    NaN       NaN\n",
      "Recall     0.906940  0.367925  0.772300    0.0       NaN\n",
      "F1-score   0.913423  0.475610  0.687565    NaN  0.849432\n"
     ]
    },
    {
     "name": "stderr",
     "output_type": "stream",
     "text": [
      "<ipython-input-5-7b3d2177ac82>:20: RuntimeWarning: invalid value encountered in true_divide\n",
      "  Ps = rights/matrix.sum(axis=0)\n"
     ]
    },
    {
     "name": "stdout",
     "output_type": "stream",
     "text": [
      "Epoch 003: Step:1100//1266 Loss: 0.054 \n",
      "[[1777   39   86    0]\n",
      " [  38   55   13    0]\n",
      " [ 133   14  279    0]\n",
      " [  14   13    3    0]]\n",
      "            neutral   sadness       joy  anger   Overall\n",
      "Precision  0.905708  0.454545  0.732283    NaN       NaN\n",
      "Recall     0.934280  0.518868  0.654930    0.0       NaN\n",
      "F1-score   0.919772  0.484582  0.691450    NaN  0.856737\n"
     ]
    },
    {
     "name": "stderr",
     "output_type": "stream",
     "text": [
      "<ipython-input-5-7b3d2177ac82>:20: RuntimeWarning: invalid value encountered in true_divide\n",
      "  Ps = rights/matrix.sum(axis=0)\n"
     ]
    },
    {
     "name": "stdout",
     "output_type": "stream",
     "text": [
      "Epoch 003: Step:1150//1266 Loss: 0.025 \n",
      "[[1751   16  135    0]\n",
      " [  42   44   20    0]\n",
      " [ 108    7  311    0]\n",
      " [  15    9    6    0]]\n",
      "            neutral   sadness       joy  anger   Overall\n",
      "Precision  0.913883  0.578947  0.658898    NaN       NaN\n",
      "Recall     0.920610  0.415094  0.730047    0.0       NaN\n",
      "F1-score   0.917234  0.483516  0.692650    NaN  0.854708\n"
     ]
    },
    {
     "name": "stderr",
     "output_type": "stream",
     "text": [
      "<ipython-input-5-7b3d2177ac82>:20: RuntimeWarning: invalid value encountered in true_divide\n",
      "  Ps = rights/matrix.sum(axis=0)\n"
     ]
    },
    {
     "name": "stdout",
     "output_type": "stream",
     "text": [
      "Epoch 003: Step:1200//1266 Loss: 0.218 \n",
      "[[1765    6  131    0]\n",
      " [  48   36   22    0]\n",
      " [ 114    1  311    0]\n",
      " [  16    7    7    0]]\n",
      "            neutral   sadness       joy  anger   Overall\n",
      "Precision  0.908389  0.720000  0.660297    NaN       NaN\n",
      "Recall     0.927971  0.339623  0.730047    0.0       NaN\n",
      "F1-score   0.918075  0.461538  0.693422    NaN  0.857143\n"
     ]
    },
    {
     "name": "stderr",
     "output_type": "stream",
     "text": [
      "<ipython-input-5-7b3d2177ac82>:20: RuntimeWarning: invalid value encountered in true_divide\n",
      "  Ps = rights/matrix.sum(axis=0)\n"
     ]
    },
    {
     "name": "stdout",
     "output_type": "stream",
     "text": [
      "Epoch 003: Step:1250//1266 Loss: 0.462 \n",
      "[[1695   29  178    0]\n",
      " [  32   48   26    0]\n",
      " [  82    6  338    0]\n",
      " [  12   11    7    0]]\n",
      "            neutral   sadness       joy  anger   Overall\n",
      "Precision  0.930807  0.510638  0.615665    NaN       NaN\n",
      "Recall     0.891167  0.452830  0.793427    0.0       NaN\n",
      "F1-score   0.910556  0.480000  0.693333    NaN  0.844562\n"
     ]
    },
    {
     "name": "stderr",
     "output_type": "stream",
     "text": [
      "<ipython-input-5-7b3d2177ac82>:20: RuntimeWarning: invalid value encountered in true_divide\n",
      "  Ps = rights/matrix.sum(axis=0)\n"
     ]
    },
    {
     "name": "stdout",
     "output_type": "stream",
     "text": [
      "Training for epoch 4\n",
      "Epoch 004: Step:000//1266 Loss: 0.228 \n",
      "[[1670   35  197    0]\n",
      " [  26   50   30    0]\n",
      " [  69    7  350    0]\n",
      " [  12   11    7    0]]\n",
      "            neutral   sadness       joy  anger   Overall\n",
      "Precision  0.939786  0.485437  0.599315    NaN       NaN\n",
      "Recall     0.878023  0.471698  0.821596    0.0       NaN\n",
      "F1-score   0.907855  0.478469  0.693069    NaN  0.840097\n"
     ]
    },
    {
     "name": "stderr",
     "output_type": "stream",
     "text": [
      "<ipython-input-5-7b3d2177ac82>:20: RuntimeWarning: invalid value encountered in true_divide\n",
      "  Ps = rights/matrix.sum(axis=0)\n"
     ]
    },
    {
     "name": "stdout",
     "output_type": "stream",
     "text": [
      "Epoch 004: Step:050//1266 Loss: 0.431 \n",
      "[[1698   14  190    0]\n",
      " [  35   42   29    0]\n",
      " [  76    1  349    0]\n",
      " [  14    9    7    0]]\n",
      "            neutral   sadness       joy  anger   Overall\n",
      "Precision  0.931432  0.636364  0.606957    NaN       NaN\n",
      "Recall     0.892744  0.396226  0.819249    0.0       NaN\n",
      "F1-score   0.911678  0.488372  0.697303    NaN  0.847808\n"
     ]
    },
    {
     "name": "stderr",
     "output_type": "stream",
     "text": [
      "<ipython-input-5-7b3d2177ac82>:20: RuntimeWarning: invalid value encountered in true_divide\n",
      "  Ps = rights/matrix.sum(axis=0)\n"
     ]
    },
    {
     "name": "stdout",
     "output_type": "stream",
     "text": [
      "Epoch 004: Step:100//1266 Loss: 0.131 \n",
      "[[1740    7  155    0]\n",
      " [  44   35   27    0]\n",
      " [ 101    0  325    0]\n",
      " [  15    6    9    0]]\n",
      "            neutral   sadness       joy  anger   Overall\n",
      "Precision  0.915789  0.729167  0.629845    NaN       NaN\n",
      "Recall     0.914827  0.330189  0.762911    0.0       NaN\n",
      "F1-score   0.915308  0.454545  0.690021    NaN  0.852273\n"
     ]
    },
    {
     "name": "stderr",
     "output_type": "stream",
     "text": [
      "<ipython-input-5-7b3d2177ac82>:20: RuntimeWarning: invalid value encountered in true_divide\n",
      "  Ps = rights/matrix.sum(axis=0)\n"
     ]
    },
    {
     "name": "stdout",
     "output_type": "stream",
     "text": [
      "Epoch 004: Step:150//1266 Loss: 0.439 \n",
      "[[1793   33   76    0]\n",
      " [  36   54   16    0]\n",
      " [ 146   13  267    0]\n",
      " [  17   11    2    0]]\n",
      "            neutral   sadness       joy  anger   Overall\n",
      "Precision  0.900100  0.486486  0.739612    NaN       NaN\n",
      "Recall     0.942692  0.509434  0.626761    0.0       NaN\n",
      "F1-score   0.920904  0.497696  0.678526    NaN  0.857955\n"
     ]
    },
    {
     "name": "stderr",
     "output_type": "stream",
     "text": [
      "<ipython-input-5-7b3d2177ac82>:20: RuntimeWarning: invalid value encountered in true_divide\n",
      "  Ps = rights/matrix.sum(axis=0)\n"
     ]
    },
    {
     "name": "stdout",
     "output_type": "stream",
     "text": [
      "Epoch 004: Step:200//1266 Loss: 0.211 \n",
      "[[1745   28  129    0]\n",
      " [  37   48   21    0]\n",
      " [ 110    8  308    0]\n",
      " [  14   10    6    0]]\n",
      "            neutral   sadness       joy  anger   Overall\n",
      "Precision  0.915530  0.510638  0.663793    NaN       NaN\n",
      "Recall     0.917455  0.452830  0.723005    0.0       NaN\n",
      "F1-score   0.916492  0.480000  0.692135    NaN  0.852679\n"
     ]
    },
    {
     "name": "stderr",
     "output_type": "stream",
     "text": [
      "<ipython-input-5-7b3d2177ac82>:20: RuntimeWarning: invalid value encountered in true_divide\n",
      "  Ps = rights/matrix.sum(axis=0)\n"
     ]
    },
    {
     "name": "stdout",
     "output_type": "stream",
     "text": [
      "Epoch 004: Step:250//1266 Loss: 0.303 \n",
      "[[1638   16  248    0]\n",
      " [  31   44   31    0]\n",
      " [  64    2  360    0]\n",
      " [  13   10    7    0]]\n",
      "            neutral   sadness       joy  anger   Overall\n",
      "Precision  0.938144  0.611111  0.557276    NaN       NaN\n",
      "Recall     0.861199  0.415094  0.845070    0.0       NaN\n",
      "F1-score   0.898026  0.494382  0.671642    NaN  0.828734\n"
     ]
    },
    {
     "name": "stderr",
     "output_type": "stream",
     "text": [
      "<ipython-input-5-7b3d2177ac82>:20: RuntimeWarning: invalid value encountered in true_divide\n",
      "  Ps = rights/matrix.sum(axis=0)\n"
     ]
    },
    {
     "name": "stdout",
     "output_type": "stream",
     "text": [
      "Epoch 004: Step:300//1266 Loss: 0.196 \n",
      "[[1761   18  123    0]\n",
      " [  39   46   21    0]\n",
      " [ 118    4  304    0]\n",
      " [  14   10    6    0]]\n",
      "            neutral   sadness       joy  anger   Overall\n",
      "Precision  0.911491  0.589744  0.669604    NaN       NaN\n",
      "Recall     0.925867  0.433962  0.713615    0.0       NaN\n",
      "F1-score   0.918623  0.500000  0.690909    NaN  0.856737\n"
     ]
    },
    {
     "name": "stderr",
     "output_type": "stream",
     "text": [
      "<ipython-input-5-7b3d2177ac82>:20: RuntimeWarning: invalid value encountered in true_divide\n",
      "  Ps = rights/matrix.sum(axis=0)\n"
     ]
    },
    {
     "name": "stdout",
     "output_type": "stream",
     "text": [
      "Epoch 004: Step:350//1266 Loss: 0.493 \n",
      "[[1824   15   63    0]\n",
      " [  46   47   13    0]\n",
      " [ 156    7  263    0]\n",
      " [  17   11    2    0]]\n",
      "            neutral   sadness       joy  anger   Overall\n",
      "Precision  0.892805  0.587500  0.771261    NaN       NaN\n",
      "Recall     0.958991  0.443396  0.617371    0.0       NaN\n",
      "F1-score   0.924715  0.505376  0.685789    NaN  0.866071\n"
     ]
    },
    {
     "name": "stderr",
     "output_type": "stream",
     "text": [
      "<ipython-input-5-7b3d2177ac82>:20: RuntimeWarning: invalid value encountered in true_divide\n",
      "  Ps = rights/matrix.sum(axis=0)\n"
     ]
    },
    {
     "name": "stdout",
     "output_type": "stream",
     "text": [
      "Epoch 004: Step:400//1266 Loss: 0.118 \n",
      "[[1718   15  169    0]\n",
      " [  37   45   24    0]\n",
      " [  91    5  330    0]\n",
      " [  13   10    7    0]]\n",
      "            neutral   sadness       joy  anger   Overall\n",
      "Precision  0.924153  0.600000  0.622642    NaN       NaN\n",
      "Recall     0.903260  0.424528  0.774648    0.0       NaN\n",
      "F1-score   0.913587  0.497238  0.690377    NaN  0.849432\n"
     ]
    },
    {
     "name": "stderr",
     "output_type": "stream",
     "text": [
      "<ipython-input-5-7b3d2177ac82>:20: RuntimeWarning: invalid value encountered in true_divide\n",
      "  Ps = rights/matrix.sum(axis=0)\n"
     ]
    },
    {
     "name": "stdout",
     "output_type": "stream",
     "text": [
      "Epoch 004: Step:450//1266 Loss: 0.030 \n",
      "[[1733   16  153    0]\n",
      " [  40   46   20    0]\n",
      " [ 100    5  321    0]\n",
      " [  13   10    7    0]]\n",
      "            neutral   sadness       joy  anger   Overall\n",
      "Precision  0.918876  0.597403  0.640719    NaN       NaN\n",
      "Recall     0.911146  0.433962  0.753521    0.0       NaN\n",
      "F1-score   0.914995  0.502732  0.692557    NaN  0.852273\n"
     ]
    },
    {
     "name": "stderr",
     "output_type": "stream",
     "text": [
      "<ipython-input-5-7b3d2177ac82>:20: RuntimeWarning: invalid value encountered in true_divide\n",
      "  Ps = rights/matrix.sum(axis=0)\n"
     ]
    },
    {
     "name": "stdout",
     "output_type": "stream",
     "text": [
      "Epoch 004: Step:500//1266 Loss: 0.081 \n",
      "[[1772   12  118    0]\n",
      " [  47   44   15    0]\n",
      " [ 116    6  304    0]\n",
      " [  14   10    6    0]]\n",
      "            neutral   sadness       joy  anger  Overall\n",
      "Precision  0.909184  0.611111  0.686230    NaN      NaN\n",
      "Recall     0.931651  0.415094  0.713615    0.0      NaN\n",
      "F1-score   0.920280  0.494382  0.699655    NaN  0.86039\n"
     ]
    },
    {
     "name": "stderr",
     "output_type": "stream",
     "text": [
      "<ipython-input-5-7b3d2177ac82>:20: RuntimeWarning: invalid value encountered in true_divide\n",
      "  Ps = rights/matrix.sum(axis=0)\n"
     ]
    },
    {
     "name": "stdout",
     "output_type": "stream",
     "text": [
      "Epoch 004: Step:550//1266 Loss: 0.102 \n",
      "[[1689   32  181    0]\n",
      " [  31   55   20    0]\n",
      " [  84    8  334    0]\n",
      " [  12   11    7    0]]\n",
      "            neutral   sadness       joy  anger   Overall\n",
      "Precision  0.930066  0.518868  0.616236    NaN       NaN\n",
      "Recall     0.888013  0.518868  0.784038    0.0       NaN\n",
      "F1-score   0.908553  0.518868  0.690083    NaN  0.843344\n"
     ]
    },
    {
     "name": "stderr",
     "output_type": "stream",
     "text": [
      "<ipython-input-5-7b3d2177ac82>:20: RuntimeWarning: invalid value encountered in true_divide\n",
      "  Ps = rights/matrix.sum(axis=0)\n"
     ]
    },
    {
     "name": "stdout",
     "output_type": "stream",
     "text": [
      "Epoch 004: Step:600//1266 Loss: 0.982 \n",
      "[[1721   11  170    0]\n",
      " [  41   40   25    0]\n",
      " [  95    1  330    0]\n",
      " [  14    8    8    0]]\n",
      "            neutral   sadness       joy  anger  Overall\n",
      "Precision  0.919829  0.666667  0.619137    NaN      NaN\n",
      "Recall     0.904837  0.377358  0.774648    0.0      NaN\n",
      "F1-score   0.912271  0.481928  0.688217    NaN  0.84862\n"
     ]
    },
    {
     "name": "stderr",
     "output_type": "stream",
     "text": [
      "<ipython-input-5-7b3d2177ac82>:20: RuntimeWarning: invalid value encountered in true_divide\n",
      "  Ps = rights/matrix.sum(axis=0)\n"
     ]
    },
    {
     "name": "stdout",
     "output_type": "stream",
     "text": [
      "Epoch 004: Step:650//1266 Loss: 0.247 \n",
      "[[1734   20  148    0]\n",
      " [  38   49   19    0]\n",
      " [ 100    6  320    0]\n",
      " [  13   10    7    0]]\n",
      "            neutral   sadness       joy  anger  Overall\n",
      "Precision  0.919894  0.576471  0.647773    NaN      NaN\n",
      "Recall     0.911672  0.462264  0.751174    0.0      NaN\n",
      "F1-score   0.915764  0.513089  0.695652    NaN  0.85349\n"
     ]
    },
    {
     "name": "stderr",
     "output_type": "stream",
     "text": [
      "<ipython-input-5-7b3d2177ac82>:20: RuntimeWarning: invalid value encountered in true_divide\n",
      "  Ps = rights/matrix.sum(axis=0)\n"
     ]
    },
    {
     "name": "stdout",
     "output_type": "stream",
     "text": [
      "Epoch 004: Step:700//1266 Loss: 0.051 \n",
      "[[1818   12   72    0]\n",
      " [  50   44   12    0]\n",
      " [ 152    4  270    0]\n",
      " [  19   10    1    0]]\n",
      "            neutral   sadness       joy  anger  Overall\n",
      "Precision  0.891614  0.628571  0.760563    NaN      NaN\n",
      "Recall     0.955836  0.415094  0.633803    0.0      NaN\n",
      "F1-score   0.922608  0.500000  0.691421    NaN  0.86526\n"
     ]
    },
    {
     "name": "stderr",
     "output_type": "stream",
     "text": [
      "<ipython-input-5-7b3d2177ac82>:20: RuntimeWarning: invalid value encountered in true_divide\n",
      "  Ps = rights/matrix.sum(axis=0)\n"
     ]
    },
    {
     "name": "stdout",
     "output_type": "stream",
     "text": [
      "Epoch 004: Step:750//1266 Loss: 0.951 \n",
      "[[1749   12  141    0]\n",
      " [  40   44   22    0]\n",
      " [ 107    2  317    0]\n",
      " [  14    9    7    0]]\n",
      "            neutral   sadness       joy  anger   Overall\n",
      "Precision  0.915707  0.656716  0.650924    NaN       NaN\n",
      "Recall     0.919558  0.415094  0.744131    0.0       NaN\n",
      "F1-score   0.917629  0.508671  0.694414    NaN  0.856331\n"
     ]
    },
    {
     "name": "stderr",
     "output_type": "stream",
     "text": [
      "<ipython-input-5-7b3d2177ac82>:20: RuntimeWarning: invalid value encountered in true_divide\n",
      "  Ps = rights/matrix.sum(axis=0)\n"
     ]
    },
    {
     "name": "stdout",
     "output_type": "stream",
     "text": [
      "Epoch 004: Step:800//1266 Loss: 0.014 \n",
      "[[1843    7   52    0]\n",
      " [  58   35   13    0]\n",
      " [ 184    1  241    0]\n",
      " [  21    7    2    0]]\n",
      "            neutral   sadness       joy  anger   Overall\n",
      "Precision  0.875119  0.700000  0.782468    NaN       NaN\n",
      "Recall     0.968980  0.330189  0.565728    0.0       NaN\n",
      "F1-score   0.919661  0.448718  0.656676    NaN  0.859984\n"
     ]
    },
    {
     "name": "stderr",
     "output_type": "stream",
     "text": [
      "<ipython-input-5-7b3d2177ac82>:20: RuntimeWarning: invalid value encountered in true_divide\n",
      "  Ps = rights/matrix.sum(axis=0)\n"
     ]
    },
    {
     "name": "stdout",
     "output_type": "stream",
     "text": [
      "Epoch 004: Step:850//1266 Loss: 0.147 \n"
     ]
    }
   ],
   "source": [
    "confusion_matrix,performance = train(model,train_features,train_labels,test_features,test_labels)"
   ]
  },
  {
   "cell_type": "code",
   "execution_count": 10,
   "metadata": {},
   "outputs": [
    {
     "name": "stdout",
     "output_type": "stream",
     "text": [
      "[[1519  173   51  159]\n",
      " [  81   10   11    4]\n",
      " [ 339   32   32   23]\n",
      " [  24    2    2    2]]\n",
      "            neutral   sadness       joy     anger   Overall\n",
      "Precision  0.773816  0.046083  0.333333  0.010638       NaN\n",
      "Recall     0.798633  0.094340  0.075117  0.066667       NaN\n",
      "F1-score   0.786028  0.061920  0.122605  0.018349  0.634334\n"
     ]
    },
    {
     "data": {
      "text/plain": [
       "(array([[1519,  173,   51,  159],\n",
       "        [  81,   10,   11,    4],\n",
       "        [ 339,   32,   32,   23],\n",
       "        [  24,    2,    2,    2]], dtype=int32),\n",
       "             neutral   sadness       joy     anger   Overall\n",
       " Precision  0.773816  0.046083  0.333333  0.010638       NaN\n",
       " Recall     0.798633  0.094340  0.075117  0.066667       NaN\n",
       " F1-score   0.786028  0.061920  0.122605  0.018349  0.634334)"
      ]
     },
     "execution_count": 10,
     "metadata": {},
     "output_type": "execute_result"
    }
   ],
   "source": [
    "test(model,test_features,test_labels)"
   ]
  },
  {
   "cell_type": "code",
   "execution_count": null,
   "metadata": {},
   "outputs": [],
   "source": []
  },
  {
   "cell_type": "code",
   "execution_count": 13,
   "metadata": {},
   "outputs": [],
   "source": [
    "weights = [sum(train_df['emotion']==e) for e in ems]"
   ]
  },
  {
   "cell_type": "code",
   "execution_count": 14,
   "metadata": {},
   "outputs": [
    {
     "data": {
      "text/plain": [
       "[7939, 408, 1674, 110]"
      ]
     },
     "execution_count": 14,
     "metadata": {},
     "output_type": "execute_result"
    }
   ],
   "source": [
    "weights"
   ]
  },
  {
   "cell_type": "code",
   "execution_count": 15,
   "metadata": {},
   "outputs": [
    {
     "data": {
      "text/plain": [
       "[1.2761053029348783, 24.830882352941178, 6.051971326164875, 92.1]"
      ]
     },
     "execution_count": 15,
     "metadata": {},
     "output_type": "execute_result"
    }
   ],
   "source": [
    "\n",
    "weights = [sum(train_df['emotion']==e) for e in ems]\n",
    "weights = [sum(weights)/i for i in weights]\n",
    "weights"
   ]
  },
  {
   "cell_type": "code",
   "execution_count": 17,
   "metadata": {},
   "outputs": [
    {
     "data": {
      "text/plain": [
       "array(['neutral', 'sadness', 'joy', 'anger'], dtype=object)"
      ]
     },
     "execution_count": 17,
     "metadata": {},
     "output_type": "execute_result"
    }
   ],
   "source": [
    "ems"
   ]
  },
  {
   "cell_type": "code",
   "execution_count": 8,
   "metadata": {},
   "outputs": [],
   "source": [
    "addition = train_df[train_df['emotion']!='neutral']\n",
    "result = pd.concat([addition,addition,addition,train_df, addition], axis=0)\n",
    "result.sample(frac=1)"
   ]
  },
  {
   "cell_type": "code",
   "execution_count": 9,
   "metadata": {},
   "outputs": [
    {
     "data": {
      "text/plain": [
       "(1674, 5)"
      ]
     },
     "execution_count": 9,
     "metadata": {},
     "output_type": "execute_result"
    }
   ],
   "source": [
    "train_df[train_df['emotion']=='joy'].shape\n"
   ]
  },
  {
   "cell_type": "code",
   "execution_count": 10,
   "metadata": {},
   "outputs": [
    {
     "data": {
      "text/plain": [
       "(408, 5)"
      ]
     },
     "execution_count": 10,
     "metadata": {},
     "output_type": "execute_result"
    }
   ],
   "source": [
    "\n",
    "train_df[train_df['emotion']=='sadness'].shape\n"
   ]
  },
  {
   "cell_type": "code",
   "execution_count": 23,
   "metadata": {},
   "outputs": [],
   "source": [
    "addition_anger = train_df[train_df['emotion']=='anger']\n",
    "addition_sadness = train_df[train_df['emotion']=='sadness']\n",
    "addition_joy = train_df[train_df['emotion']=='joy']\n",
    "for i in range(3):\n",
    "    addition_anger = pd.concat([addition_anger,train_df[train_df['emotion']=='anger']], axis=0)\n",
    "addition_sadness = pd.concat([addition_sadness,addition_anger], axis=0)\n",
    "\n",
    "addition_sadness = pd.concat([addition_sadness,addition_sadness], axis=0)\n",
    "addition_sadness = pd.concat([addition_sadness,addition_sadness], axis=0)\n",
    "addition_joy = pd.concat([addition_joy,addition_sadness], axis=0)\n",
    "\n",
    "train_df = pd.concat([train_df,addition_joy,addition_joy,addition_joy], axis=0)\n"
   ]
  },
  {
   "cell_type": "code",
   "execution_count": 29,
   "metadata": {},
   "outputs": [
    {
     "data": {
      "text/plain": [
       "(7939, 5)"
      ]
     },
     "execution_count": 29,
     "metadata": {},
     "output_type": "execute_result"
    }
   ],
   "source": [
    "train_df[train_df['emotion']=='neutral'].shape"
   ]
  },
  {
   "cell_type": "code",
   "execution_count": 1,
   "metadata": {},
   "outputs": [
    {
     "ename": "NameError",
     "evalue": "name 'train_df' is not defined",
     "output_type": "error",
     "traceback": [
      "\u001b[0;31m---------------------------------------------------------------------------\u001b[0m",
      "\u001b[0;31mNameError\u001b[0m                                 Traceback (most recent call last)",
      "\u001b[0;32m<ipython-input-1-89454e93037b>\u001b[0m in \u001b[0;36m<module>\u001b[0;34m\u001b[0m\n\u001b[0;32m----> 1\u001b[0;31m \u001b[0mtrain_df\u001b[0m\u001b[0;34m[\u001b[0m\u001b[0mtrain_df\u001b[0m\u001b[0;34m[\u001b[0m\u001b[0;34m'utterance'\u001b[0m\u001b[0;34m]\u001b[0m\u001b[0;34m==\u001b[0m\u001b[0;34m'lol'\u001b[0m\u001b[0;34m]\u001b[0m\u001b[0;34m\u001b[0m\u001b[0;34m\u001b[0m\u001b[0m\n\u001b[0m",
      "\u001b[0;31mNameError\u001b[0m: name 'train_df' is not defined"
     ]
    }
   ],
   "source": [
    "train_df[train_df['utterance']=='lol']"
   ]
  },
  {
   "cell_type": "code",
   "execution_count": 19,
   "metadata": {},
   "outputs": [
    {
     "data": {
      "text/html": [
       "<div>\n",
       "<style scoped>\n",
       "    .dataframe tbody tr th:only-of-type {\n",
       "        vertical-align: middle;\n",
       "    }\n",
       "\n",
       "    .dataframe tbody tr th {\n",
       "        vertical-align: top;\n",
       "    }\n",
       "\n",
       "    .dataframe thead th {\n",
       "        text-align: right;\n",
       "    }\n",
       "</style>\n",
       "<table border=\"1\" class=\"dataframe\">\n",
       "  <thead>\n",
       "    <tr style=\"text-align: right;\">\n",
       "      <th></th>\n",
       "      <th>utterance</th>\n",
       "      <th>emotion</th>\n",
       "    </tr>\n",
       "  </thead>\n",
       "  <tbody>\n",
       "    <tr>\n",
       "      <th>3590</th>\n",
       "      <td>:)</td>\n",
       "      <td>joy</td>\n",
       "    </tr>\n",
       "    <tr>\n",
       "      <th>5479</th>\n",
       "      <td>:)</td>\n",
       "      <td>joy</td>\n",
       "    </tr>\n",
       "    <tr>\n",
       "      <th>5480</th>\n",
       "      <td>:)</td>\n",
       "      <td>joy</td>\n",
       "    </tr>\n",
       "    <tr>\n",
       "      <th>5653</th>\n",
       "      <td>:)</td>\n",
       "      <td>joy</td>\n",
       "    </tr>\n",
       "    <tr>\n",
       "      <th>7030</th>\n",
       "      <td>:)</td>\n",
       "      <td>joy</td>\n",
       "    </tr>\n",
       "    <tr>\n",
       "      <th>7790</th>\n",
       "      <td>:)</td>\n",
       "      <td>joy</td>\n",
       "    </tr>\n",
       "    <tr>\n",
       "      <th>8435</th>\n",
       "      <td>:)</td>\n",
       "      <td>joy</td>\n",
       "    </tr>\n",
       "    <tr>\n",
       "      <th>9901</th>\n",
       "      <td>:)</td>\n",
       "      <td>joy</td>\n",
       "    </tr>\n",
       "    <tr>\n",
       "      <th>9909</th>\n",
       "      <td>:)</td>\n",
       "      <td>joy</td>\n",
       "    </tr>\n",
       "  </tbody>\n",
       "</table>\n",
       "</div>"
      ],
      "text/plain": [
       "     utterance emotion\n",
       "3590        :)     joy\n",
       "5479        :)     joy\n",
       "5480        :)     joy\n",
       "5653        :)     joy\n",
       "7030        :)     joy\n",
       "7790        :)     joy\n",
       "8435        :)     joy\n",
       "9901        :)     joy\n",
       "9909        :)     joy"
      ]
     },
     "execution_count": 19,
     "metadata": {},
     "output_type": "execute_result"
    }
   ],
   "source": [
    "train_df[train_df['utterance']==':)'][['utterance','emotion']]#,'causal_utterance','emotion']]"
   ]
  },
  {
   "cell_type": "code",
   "execution_count": 17,
   "metadata": {},
   "outputs": [
    {
     "data": {
      "text/html": [
       "<div>\n",
       "<style scoped>\n",
       "    .dataframe tbody tr th:only-of-type {\n",
       "        vertical-align: middle;\n",
       "    }\n",
       "\n",
       "    .dataframe tbody tr th {\n",
       "        vertical-align: top;\n",
       "    }\n",
       "\n",
       "    .dataframe thead th {\n",
       "        text-align: right;\n",
       "    }\n",
       "</style>\n",
       "<table border=\"1\" class=\"dataframe\">\n",
       "  <thead>\n",
       "    <tr style=\"text-align: right;\">\n",
       "      <th></th>\n",
       "      <th>speaker</th>\n",
       "      <th>utterance</th>\n",
       "      <th>previous_speaker</th>\n",
       "      <th>causal_utterance</th>\n",
       "      <th>emotion</th>\n",
       "    </tr>\n",
       "  </thead>\n",
       "  <tbody>\n",
       "    <tr>\n",
       "      <th>0</th>\n",
       "      <td>other</td>\n",
       "      <td>No</td>\n",
       "      <td>None</td>\n",
       "      <td>None</td>\n",
       "      <td>neutral</td>\n",
       "    </tr>\n",
       "    <tr>\n",
       "      <th>1</th>\n",
       "      <td>other</td>\n",
       "      <td>Why him?</td>\n",
       "      <td>other</td>\n",
       "      <td>No</td>\n",
       "      <td>neutral</td>\n",
       "    </tr>\n",
       "    <tr>\n",
       "      <th>2</th>\n",
       "      <td>other</td>\n",
       "      <td>Yeah one tix is fine</td>\n",
       "      <td>other</td>\n",
       "      <td>Why him?</td>\n",
       "      <td>neutral</td>\n",
       "    </tr>\n",
       "    <tr>\n",
       "      <th>3</th>\n",
       "      <td>other</td>\n",
       "      <td>person_0</td>\n",
       "      <td>other</td>\n",
       "      <td>Yeah one tix is fine</td>\n",
       "      <td>neutral</td>\n",
       "    </tr>\n",
       "    <tr>\n",
       "      <th>5</th>\n",
       "      <td>other</td>\n",
       "      <td>If you know anyone else who wants a tix let me...</td>\n",
       "      <td>other</td>\n",
       "      <td>Wait like buy from him?</td>\n",
       "      <td>neutral</td>\n",
       "    </tr>\n",
       "  </tbody>\n",
       "</table>\n",
       "</div>"
      ],
      "text/plain": [
       "  speaker                                          utterance previous_speaker  \\\n",
       "0   other                                                 No             None   \n",
       "1   other                                          Why him?             other   \n",
       "2   other                              Yeah one tix is fine             other   \n",
       "3   other                                           person_0            other   \n",
       "5   other  If you know anyone else who wants a tix let me...            other   \n",
       "\n",
       "          causal_utterance   emotion  \n",
       "0                      None  neutral  \n",
       "1                        No  neutral  \n",
       "2                 Why him?   neutral  \n",
       "3     Yeah one tix is fine   neutral  \n",
       "5  Wait like buy from him?   neutral  "
      ]
     },
     "execution_count": 17,
     "metadata": {},
     "output_type": "execute_result"
    }
   ],
   "source": [
    "train_df.head()"
   ]
  },
  {
   "cell_type": "code",
   "execution_count": null,
   "metadata": {},
   "outputs": [],
   "source": []
  }
 ],
 "metadata": {
  "kernelspec": {
   "display_name": "Python 3",
   "language": "python",
   "name": "python3"
  },
  "language_info": {
   "codemirror_mode": {
    "name": "ipython",
    "version": 3
   },
   "file_extension": ".py",
   "mimetype": "text/x-python",
   "name": "python",
   "nbconvert_exporter": "python",
   "pygments_lexer": "ipython3",
   "version": "3.8.3"
  }
 },
 "nbformat": 4,
 "nbformat_minor": 4
}
